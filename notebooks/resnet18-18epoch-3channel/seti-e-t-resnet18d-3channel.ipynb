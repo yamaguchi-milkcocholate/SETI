{
 "cells": [
  {
   "cell_type": "markdown",
   "id": "naughty-cricket",
   "metadata": {},
   "source": [
    "# About\n",
    "\n",
    "I'd like to share an example for [small models](https://www.kaggle.com/c/seti-breakthrough-listen/discussion/242644)."
   ]
  },
  {
   "cell_type": "markdown",
   "id": "intense-magazine",
   "metadata": {
    "papermill": {
     "duration": 0.032495,
     "end_time": "2021-08-01T23:42:31.861183",
     "exception": false,
     "start_time": "2021-08-01T23:42:31.828688",
     "status": "completed"
    },
    "tags": []
   },
   "source": [
    "### Experimental Settings"
   ]
  },
  {
   "cell_type": "markdown",
   "id": "binding-willow",
   "metadata": {
    "papermill": {
     "duration": 0.032301,
     "end_time": "2021-08-01T23:42:31.926182",
     "exception": false,
     "start_time": "2021-08-01T23:42:31.893881",
     "status": "completed"
    },
    "tags": []
   },
   "source": [
    "### model\n",
    "* backbone: resnet18d (use the pretrained model provided by [timm](https://github.com/rwightman/pytorch-image-models))\n",
    "* head classifier: one linear layer\n",
    "* num of input channels: **1**\n",
    "\n",
    "### data augmentation\n",
    "* implemented by [albumentations](https://albumentations.ai/docs/) **except for Mixup**\n",
    "* Train\n",
    "  * Resize\n",
    "  * HorizontalFlip\n",
    "  * VerticalFlip\n",
    "  * ShiftScaleRotate\n",
    "  * RandomResizedCrop\n",
    "  * Mixup(alpha=1.0)\n",
    "* Val, Test\n",
    "  * Resize\n",
    "\n",
    "### learning settings\n",
    "* CV Strategy: Stratified KFold (K=5)\n",
    "* max epochs: 18\n",
    "* data:\n",
    "  * input image size: 1x320x320\n",
    "  * batch size: 64\n",
    "* loss: [BCEWithLogitsLoss](https://pytorch.org/docs/stable/generated/torch.nn.BCEWithLogitsLoss.html#torch.nn.BCEWithLogitsLoss)\n",
    "* optimizer: [AdamW](https://pytorch.org/docs/stable/optim.html#torch.optim.AdamW)\n",
    "  * weight decay: 1.0e-04\n",
    "* learning rate scheduler: [OneCycleLR](https://pytorch.org/docs/stable/optim.html#torch.optim.lr_scheduler.OneCycleLR) \n",
    "  * epochs: 18\n",
    "  * max_lr: 1e-3\n",
    "  * pct_start: 0.111\n",
    "  * anneal_strategy: cos\n",
    "  * div_factor: 1.0e+2\n",
    "  * inal_div_factor: 1\n",
    "  \n",
    "### NOTE: I use only on-target ('A') observations\n",
    "\n",
    "```python\n",
    "img = np.load(path)[[0, 2, 4]]          # shape: (3, 273, 256)\n",
    "img = np.vstack(img)                    # shape: (819, 256)\n",
    "img = img.transpose(1, 0)               # shape: (256, 819)\n",
    "```"
   ]
  },
  {
   "cell_type": "markdown",
   "id": "damaged-negotiation",
   "metadata": {
    "papermill": {
     "duration": 0.032534,
     "end_time": "2021-08-01T23:42:31.991201",
     "exception": false,
     "start_time": "2021-08-01T23:42:31.958667",
     "status": "completed"
    },
    "tags": []
   },
   "source": [
    "# Prapere"
   ]
  },
  {
   "cell_type": "markdown",
   "id": "prospective-gasoline",
   "metadata": {
    "papermill": {
     "duration": 0.032493,
     "end_time": "2021-08-01T23:42:32.056870",
     "exception": false,
     "start_time": "2021-08-01T23:42:32.024377",
     "status": "completed"
    },
    "tags": []
   },
   "source": [
    "## Install"
   ]
  },
  {
   "cell_type": "markdown",
   "id": "happy-cuisine",
   "metadata": {
    "papermill": {
     "duration": 0.032417,
     "end_time": "2021-08-01T23:43:00.518659",
     "exception": false,
     "start_time": "2021-08-01T23:43:00.486242",
     "status": "completed"
    },
    "tags": []
   },
   "source": [
    "## Import"
   ]
  },
  {
   "cell_type": "code",
   "execution_count": 1,
   "id": "willing-playing",
   "metadata": {
    "_cell_guid": "b1076dfc-b9ad-4769-8c92-a6c4dae69d19",
    "_uuid": "8f2839f25d086af736a60e9eeb907d3b93b6e0e5",
    "papermill": {
     "duration": 6.427766,
     "end_time": "2021-08-01T23:43:06.980730",
     "exception": false,
     "start_time": "2021-08-01T23:43:00.552964",
     "status": "completed"
    },
    "tags": []
   },
   "outputs": [],
   "source": [
    "import os\n",
    "import gc\n",
    "import copy\n",
    "import yaml\n",
    "import random\n",
    "import shutil\n",
    "import typing as tp\n",
    "from pathlib import Path\n",
    "\n",
    "import numpy as np\n",
    "import pandas as pd\n",
    "\n",
    "from tqdm.notebook import tqdm\n",
    "from sklearn.model_selection import StratifiedKFold\n",
    "from sklearn.metrics import roc_auc_score\n",
    "\n",
    "import torch\n",
    "from torch import nn\n",
    "from torch import optim\n",
    "from torch.optim import lr_scheduler\n",
    "from torch.cuda import amp\n",
    "\n",
    "import timm\n",
    "\n",
    "import albumentations as A\n",
    "from albumentations.pytorch import ToTensorV2\n",
    "\n",
    "import pytorch_pfn_extras as ppe\n",
    "from pytorch_pfn_extras.config import Config\n",
    "from pytorch_pfn_extras.training import extensions as ppe_exts, triggers as ppe_triggers"
   ]
  },
  {
   "cell_type": "code",
   "execution_count": 2,
   "id": "chief-clinic",
   "metadata": {
    "papermill": {
     "duration": 0.043747,
     "end_time": "2021-08-01T23:43:07.058403",
     "exception": false,
     "start_time": "2021-08-01T23:43:07.014656",
     "status": "completed"
    },
    "tags": []
   },
   "outputs": [],
   "source": [
    "ROOT = Path.cwd()\n",
    "INPUT = ROOT / \"../../\"\n",
    "OUTPUT = ROOT / \"output\"\n",
    "DATA = INPUT / \"seti-breakthrough-listen\"\n",
    "TRAIN = DATA / \"train\"\n",
    "TEST = DATA / \"test\"\n",
    "\n",
    "TMP = ROOT / \"tmp\"\n",
    "TMP.mkdir(exist_ok=True)\n",
    "\n",
    "RANDAM_SEED = 1086\n",
    "CLASSES = [\"target\"]\n",
    "N_CLASSES = len(CLASSES)\n",
    "FOLDS = [0, 1, 2, 3, 4]\n",
    "N_FOLDS = len(FOLDS)"
   ]
  },
  {
   "cell_type": "markdown",
   "id": "mexican-sellers",
   "metadata": {
    "papermill": {
     "duration": 0.033224,
     "end_time": "2021-08-01T23:43:07.123521",
     "exception": false,
     "start_time": "2021-08-01T23:43:07.090297",
     "status": "completed"
    },
    "tags": []
   },
   "source": [
    "## Read Data, Split folds"
   ]
  },
  {
   "cell_type": "code",
   "execution_count": 3,
   "id": "relevant-message",
   "metadata": {
    "papermill": {
     "duration": 0.142866,
     "end_time": "2021-08-01T23:43:07.299597",
     "exception": false,
     "start_time": "2021-08-01T23:43:07.156731",
     "status": "completed"
    },
    "tags": []
   },
   "outputs": [],
   "source": [
    "train = pd.read_csv(DATA / \"train_labels.csv\")\n",
    "smpl_sub = pd.read_csv(DATA / \"sample_submission.csv\")"
   ]
  },
  {
   "cell_type": "code",
   "execution_count": 4,
   "id": "hindu-girlfriend",
   "metadata": {
    "papermill": {
     "duration": 0.071412,
     "end_time": "2021-08-01T23:43:07.404974",
     "exception": false,
     "start_time": "2021-08-01T23:43:07.333562",
     "status": "completed"
    },
    "tags": []
   },
   "outputs": [],
   "source": [
    "skf = StratifiedKFold(n_splits=N_FOLDS, shuffle=True, random_state=RANDAM_SEED)\n",
    "train[\"fold\"] = -1\n",
    "for fold_id, (_, val_idx) in enumerate(skf.split(train[\"id\"], train[\"target\"])):\n",
    "    train.loc[val_idx, \"fold\"] = fold_id"
   ]
  },
  {
   "cell_type": "code",
   "execution_count": 5,
   "id": "minimal-support",
   "metadata": {
    "papermill": {
     "duration": 0.078982,
     "end_time": "2021-08-01T23:43:07.517313",
     "exception": false,
     "start_time": "2021-08-01T23:43:07.438331",
     "status": "completed"
    },
    "tags": []
   },
   "outputs": [
    {
     "data": {
      "text/html": [
       "<div>\n",
       "<style scoped>\n",
       "    .dataframe tbody tr th:only-of-type {\n",
       "        vertical-align: middle;\n",
       "    }\n",
       "\n",
       "    .dataframe tbody tr th {\n",
       "        vertical-align: top;\n",
       "    }\n",
       "\n",
       "    .dataframe thead th {\n",
       "        text-align: right;\n",
       "    }\n",
       "</style>\n",
       "<table border=\"1\" class=\"dataframe\">\n",
       "  <thead>\n",
       "    <tr style=\"text-align: right;\">\n",
       "      <th></th>\n",
       "      <th>total</th>\n",
       "      <th>pos</th>\n",
       "    </tr>\n",
       "    <tr>\n",
       "      <th>fold</th>\n",
       "      <th></th>\n",
       "      <th></th>\n",
       "    </tr>\n",
       "  </thead>\n",
       "  <tbody>\n",
       "    <tr>\n",
       "      <th>0</th>\n",
       "      <td>12000</td>\n",
       "      <td>1200</td>\n",
       "    </tr>\n",
       "    <tr>\n",
       "      <th>1</th>\n",
       "      <td>12000</td>\n",
       "      <td>1200</td>\n",
       "    </tr>\n",
       "    <tr>\n",
       "      <th>2</th>\n",
       "      <td>12000</td>\n",
       "      <td>1200</td>\n",
       "    </tr>\n",
       "    <tr>\n",
       "      <th>3</th>\n",
       "      <td>12000</td>\n",
       "      <td>1200</td>\n",
       "    </tr>\n",
       "    <tr>\n",
       "      <th>4</th>\n",
       "      <td>12000</td>\n",
       "      <td>1200</td>\n",
       "    </tr>\n",
       "  </tbody>\n",
       "</table>\n",
       "</div>"
      ],
      "text/plain": [
       "      total   pos\n",
       "fold             \n",
       "0     12000  1200\n",
       "1     12000  1200\n",
       "2     12000  1200\n",
       "3     12000  1200\n",
       "4     12000  1200"
      ]
     },
     "execution_count": 5,
     "metadata": {},
     "output_type": "execute_result"
    }
   ],
   "source": [
    "train.groupby(\"fold\").agg(total=(\"id\", len), pos=(\"target\", sum))"
   ]
  },
  {
   "cell_type": "markdown",
   "id": "dental-looking",
   "metadata": {
    "papermill": {
     "duration": 0.033163,
     "end_time": "2021-08-01T23:43:07.583510",
     "exception": false,
     "start_time": "2021-08-01T23:43:07.550347",
     "status": "completed"
    },
    "tags": []
   },
   "source": [
    "## Definition of Model, Dataset, Metric"
   ]
  },
  {
   "cell_type": "markdown",
   "id": "sophisticated-progress",
   "metadata": {
    "papermill": {
     "duration": 0.031802,
     "end_time": "2021-08-01T23:43:07.648570",
     "exception": false,
     "start_time": "2021-08-01T23:43:07.616768",
     "status": "completed"
    },
    "tags": []
   },
   "source": [
    "### Model"
   ]
  },
  {
   "cell_type": "code",
   "execution_count": 6,
   "id": "neutral-explanation",
   "metadata": {
    "_kg_hide-input": true,
    "papermill": {
     "duration": 0.048458,
     "end_time": "2021-08-01T23:43:07.729330",
     "exception": false,
     "start_time": "2021-08-01T23:43:07.680872",
     "status": "completed"
    },
    "tags": []
   },
   "outputs": [],
   "source": [
    "class BasicImageModel(nn.Module):\n",
    "    \n",
    "    def __init__(\n",
    "        self, base_name: str, dims_head: tp.List[int],\n",
    "        pretrained=False, in_channels: int=3\n",
    "    ):\n",
    "        \"\"\"Initialize\"\"\"\n",
    "        self.base_name = base_name\n",
    "        super(BasicImageModel, self).__init__()\n",
    "        \n",
    "        # # prepare backbone\n",
    "        if hasattr(timm.models, base_name):\n",
    "            base_model = timm.create_model(\n",
    "                base_name, num_classes=0, pretrained=pretrained, in_chans=in_channels)\n",
    "            in_features = base_model.num_features\n",
    "            print(\"load imagenet pretrained:\", pretrained)\n",
    "        else:\n",
    "            raise NotImplementedError\n",
    "\n",
    "        self.backbone = base_model\n",
    "        print(f\"{base_name}: {in_features}\")\n",
    "        \n",
    "        # # prepare head clasifier\n",
    "        if dims_head[0] is None:\n",
    "            dims_head[0] = in_features\n",
    "\n",
    "        layers_list = []\n",
    "        for i in range(len(dims_head) - 2):\n",
    "            in_dim, out_dim = dims_head[i: i + 2]\n",
    "            layers_list.extend([\n",
    "                nn.Linear(in_dim, out_dim),\n",
    "                nn.ReLU(), nn.Dropout(0.5),\n",
    "            ])\n",
    "        layers_list.append(\n",
    "            nn.Linear(dims_head[-2], dims_head[-1])\n",
    "        )\n",
    "        self.head_cls = nn.Sequential(*layers_list)\n",
    "\n",
    "    def forward(self, x):\n",
    "        \"\"\"Forward\"\"\"\n",
    "        h = self.backbone(x)\n",
    "        h = self.head_cls(h)\n",
    "        return h"
   ]
  },
  {
   "cell_type": "markdown",
   "id": "transsexual-antibody",
   "metadata": {
    "execution": {
     "iopub.execute_input": "2021-06-03T00:39:25.885782Z",
     "iopub.status.busy": "2021-06-03T00:39:25.885443Z",
     "iopub.status.idle": "2021-06-03T00:39:25.904695Z",
     "shell.execute_reply": "2021-06-03T00:39:25.903901Z",
     "shell.execute_reply.started": "2021-06-03T00:39:25.885753Z"
    },
    "papermill": {
     "duration": 0.032148,
     "end_time": "2021-08-01T23:43:07.793460",
     "exception": false,
     "start_time": "2021-08-01T23:43:07.761312",
     "status": "completed"
    },
    "tags": []
   },
   "source": [
    "### Dataset"
   ]
  },
  {
   "cell_type": "code",
   "execution_count": 7,
   "id": "grave-dealing",
   "metadata": {
    "_kg_hide-input": true,
    "papermill": {
     "duration": 0.050086,
     "end_time": "2021-08-01T23:43:07.876955",
     "exception": false,
     "start_time": "2021-08-01T23:43:07.826869",
     "status": "completed"
    },
    "tags": []
   },
   "outputs": [],
   "source": [
    "FilePath = tp.Union[str, Path]\n",
    "Label = tp.Union[int, float, np.ndarray]\n",
    "\n",
    "\n",
    "class SetiSimpleDataset(torch.utils.data.Dataset):\n",
    "    \"\"\"\n",
    "    Dataset using 6 channels by stacking them along time-axis\n",
    "\n",
    "    Attributes\n",
    "    ----------\n",
    "    paths : tp.Sequence[FilePath]\n",
    "        Sequence of path to cadence snippet file\n",
    "    labels : tp.Sequence[Label]\n",
    "        Sequence of label for cadence snippet file\n",
    "    transform: albumentations.Compose\n",
    "        composed data augmentations for data\n",
    "    \"\"\"\n",
    "\n",
    "    def __init__(\n",
    "        self,\n",
    "        paths: tp.Sequence[FilePath],\n",
    "        labels: tp.Sequence[Label],\n",
    "        transform: A.Compose,\n",
    "    ):\n",
    "        \"\"\"Initialize\"\"\"\n",
    "        self.paths = paths\n",
    "        self.labels = labels\n",
    "        self.transform = transform\n",
    "\n",
    "    def __len__(self):\n",
    "        \"\"\"Return num of cadence snippets\"\"\"\n",
    "        return len(self.paths)\n",
    "\n",
    "    def __getitem__(self, index: int):\n",
    "        \"\"\"Return transformed image and label for given index.\"\"\"\n",
    "        path, label = self.paths[index], self.labels[index]\n",
    "        img = self._read_cadence_array(path)\n",
    "        img = self.transform(image=img)[\"image\"]\n",
    "        return {\"image\": img, \"target\": label}\n",
    "\n",
    "    def _read_cadence_array(self, path: Path):\n",
    "        \"\"\"Read cadence file and reshape\"\"\"\n",
    "        img = np.load(path)  # shape: (6, 273, 256)\n",
    "        img = np.vstack(img)  # shape: (1638, 256)\n",
    "        img = img.transpose(1, 0)  # shape: (256, 1638)\n",
    "        img = img.astype(\"f\")[..., np.newaxis]  # shape: (256, 1638, 1)\n",
    "        return img\n",
    "\n",
    "    def lazy_init(self, paths=None, labels=None, transform=None):\n",
    "        \"\"\"Reset Members\"\"\"\n",
    "        if paths is not None:\n",
    "            self.paths = paths\n",
    "        if labels is not None:\n",
    "            self.labels = labels\n",
    "        if transform is not None:\n",
    "            self.transform = transform\n",
    "\n",
    "\n",
    "class SetiAObsDataset(SetiSimpleDataset):\n",
    "    \"\"\"Use only on-target observation\"\"\"\n",
    "\n",
    "    def _read_cadence_array(self, path: Path):\n",
    "        \"\"\"Read cadence file and reshape\"\"\"\n",
    "        img = np.load(path)[[0, 2, 4]]  # shape: (3, 273, 256)\n",
    "#         img = np.vstack(img)  # shape: (819, 256)\n",
    "#         img = img.transpose(1, 0)  # shape: (256, 819)\n",
    "#         img = img.astype(\"f\")[..., np.newaxis]  # shape: (819, 256, 1)\n",
    "        img = img.transpose((1, 2, 0))\n",
    "        img = img.astype(\"f\")\n",
    "        return img"
   ]
  },
  {
   "cell_type": "markdown",
   "id": "addressed-tournament",
   "metadata": {
    "papermill": {
     "duration": 0.033273,
     "end_time": "2021-08-01T23:43:07.943402",
     "exception": false,
     "start_time": "2021-08-01T23:43:07.910129",
     "status": "completed"
    },
    "tags": []
   },
   "source": [
    "### Metric"
   ]
  },
  {
   "cell_type": "code",
   "execution_count": 8,
   "id": "annoying-principal",
   "metadata": {
    "_kg_hide-input": true,
    "papermill": {
     "duration": 0.058114,
     "end_time": "2021-08-01T23:43:08.034842",
     "exception": false,
     "start_time": "2021-08-01T23:43:07.976728",
     "status": "completed"
    },
    "tags": []
   },
   "outputs": [],
   "source": [
    "Batch = tp.Union[tp.Tuple[torch.Tensor], tp.Dict[str, torch.Tensor]]\n",
    "ModelOut = tp.Union[tp.Tuple[torch.Tensor], tp.Dict[str, torch.Tensor], torch.Tensor]\n",
    "\n",
    "\n",
    "class ROCAUC(nn.Module):\n",
    "    \"\"\"ROC AUC score\"\"\"\n",
    "\n",
    "    def __init__(self, average=\"macro\") -> None:\n",
    "        \"\"\"Initialize.\"\"\"\n",
    "        self.average = average\n",
    "        super(ROCAUC, self).__init__()\n",
    "\n",
    "    def forward(self, y, t) -> float:\n",
    "        \"\"\"Forward.\"\"\"\n",
    "        if isinstance(y, torch.Tensor):\n",
    "            y = y.detach().cpu().numpy()\n",
    "        if isinstance(t, torch.Tensor):\n",
    "            t = t.detach().cpu().numpy()\n",
    "\n",
    "        return roc_auc_score(t, y, average=self.average)\n",
    "\n",
    "\n",
    "def micro_average(\n",
    "    metric_func: nn.Module,\n",
    "    report_name: str, prefix=\"val\",\n",
    "    pred_index: int=-1, label_index: int=-1,\n",
    "    pred_key: str=\"logit\", label_key: str=\"target\",\n",
    ") -> tp.Callable:\n",
    "    \"\"\"Return Metric Wrapper for Simple Mean Metric\"\"\"\n",
    "    metric_sum = [0.]\n",
    "    n_examples = [0]\n",
    "    \n",
    "    def wrapper(batch: Batch, model_output: ModelOut, is_last_batch: bool):\n",
    "        \"\"\"Wrapping metric function for evaluation\"\"\"\n",
    "        if isinstance(batch, tuple): \n",
    "            t = batch[label_index]\n",
    "        elif isinstance(batch, dict):\n",
    "            t = batch[label_key]\n",
    "        else:\n",
    "            raise NotImplementedError\n",
    "\n",
    "        if isinstance(model_output, tuple):\n",
    "            y = model_output[pred_index]\n",
    "        elif isinstance(model_output, dict):\n",
    "            y = model_output[pred_key]\n",
    "        else:\n",
    "            y = model_output\n",
    "\n",
    "        metric = metric_func(y, t).item()\n",
    "        metric_sum[0] += metric * y.shape[0]\n",
    "        n_examples[0] += y.shape[0]\n",
    "\n",
    "        if is_last_batch:\n",
    "            final_metric = metric_sum[0] / n_examples[0]\n",
    "            ppe.reporting.report({f\"{prefix}/{report_name}\": final_metric})\n",
    "            # # reset state\n",
    "            metric_sum[0] = 0.\n",
    "            n_examples[0] = 0\n",
    "\n",
    "    return wrapper\n",
    "\n",
    "\n",
    "def calc_across_all_batchs(\n",
    "    metric_func: nn.Module,\n",
    "    report_name: str, prefix=\"val\",\n",
    "    pred_index: int=-1, label_index: int=-1,\n",
    "    pred_key: str=\"logit\", label_key: str=\"target\",\n",
    ") -> tp.Callable:\n",
    "    \"\"\"\n",
    "    Return Metric Wrapper for Metrics caluculated on all data\n",
    "    \n",
    "    storing predictions and labels of evry batch, finally calculating metric on them.\n",
    "    \"\"\"\n",
    "    pred_list = []\n",
    "    label_list = []\n",
    "    \n",
    "    def wrapper(batch: Batch, model_output: ModelOut, is_last_batch: bool):\n",
    "        \"\"\"Wrapping metric function for evaluation\"\"\"\n",
    "        if isinstance(batch, tuple):\n",
    "            t = batch[label_index]\n",
    "        elif isinstance(batch, dict):\n",
    "            t = batch[label_key]\n",
    "        else:\n",
    "            raise NotImplementedError\n",
    "\n",
    "        if isinstance(model_output, tuple):\n",
    "            y = model_output[pred_index]\n",
    "        elif isinstance(model_output, dict):\n",
    "            y = model_output[pred_key]\n",
    "        else:\n",
    "            y = model_output\n",
    "\n",
    "        pred_list.append(y.numpy())\n",
    "        label_list.append(t.numpy())\n",
    "\n",
    "        if is_last_batch:\n",
    "            pred = np.concatenate(pred_list, axis=0)\n",
    "            label = np.concatenate(label_list, axis=0)\n",
    "            final_metric = metric_func(pred, label)\n",
    "            ppe.reporting.report({f\"{prefix}/{report_name}\": final_metric})\n",
    "            # # reset state\n",
    "            pred_list[:] = []\n",
    "            label_list[:] = []\n",
    "\n",
    "    return wrapper"
   ]
  },
  {
   "cell_type": "markdown",
   "id": "latin-charger",
   "metadata": {
    "papermill": {
     "duration": 0.033684,
     "end_time": "2021-08-01T23:43:08.101482",
     "exception": false,
     "start_time": "2021-08-01T23:43:08.067798",
     "status": "completed"
    },
    "tags": []
   },
   "source": [
    "# Train"
   ]
  },
  {
   "cell_type": "markdown",
   "id": "french-bouquet",
   "metadata": {
    "papermill": {
     "duration": 0.033187,
     "end_time": "2021-08-01T23:43:08.168052",
     "exception": false,
     "start_time": "2021-08-01T23:43:08.134865",
     "status": "completed"
    },
    "tags": []
   },
   "source": [
    "## config_types for evaluating configuration\n",
    "\n",
    "I use [pytorch-pfn-extras](https://github.com/pfnet/pytorch-pfn-extras) for training NNs. This library has useful config systems but requires some preparation.\n",
    "\n",
    "For more details, see [docs](https://github.com/pfnet/pytorch-pfn-extras/blob/master/docs/config.md)."
   ]
  },
  {
   "cell_type": "code",
   "execution_count": 9,
   "id": "another-farming",
   "metadata": {
    "_kg_hide-input": true,
    "papermill": {
     "duration": 0.046291,
     "end_time": "2021-08-01T23:43:08.247033",
     "exception": false,
     "start_time": "2021-08-01T23:43:08.200742",
     "status": "completed"
    },
    "tags": []
   },
   "outputs": [],
   "source": [
    "CONFIG_TYPES = {\n",
    "    # # utils\n",
    "    \"__len__\": lambda obj: len(obj),\n",
    "    \"method_call\": lambda obj, method: getattr(obj, method)(),\n",
    "\n",
    "    # # Dataset, DataLoader\n",
    "    \"SetiSimpleDataset\": SetiSimpleDataset,\n",
    "    \"SetiAObsDataset\": SetiAObsDataset,\n",
    "    \"DataLoader\": torch.utils.data.DataLoader,\n",
    "\n",
    "    # # Data Augmentation\n",
    "    \"Compose\": A.Compose, \"OneOf\": A.OneOf,\n",
    "    \"Resize\": A.Resize,\n",
    "    \"HorizontalFlip\": A.HorizontalFlip, \"VerticalFlip\": A.VerticalFlip,\n",
    "    \"ShiftScaleRotate\": A.ShiftScaleRotate,\n",
    "    \"RandomResizedCrop\": A.RandomResizedCrop,\n",
    "    \"Cutout\": A.Cutout,\n",
    "    \"ToTensorV2\": ToTensorV2,\n",
    "\n",
    "    # # Model\n",
    "    \"BasicImageModel\": BasicImageModel,\n",
    "\n",
    "    # # Optimizer\n",
    "    \"AdamW\": optim.AdamW,\n",
    "\n",
    "    # # Scheduler\n",
    "    \"OneCycleLR\": lr_scheduler.OneCycleLR,\n",
    "\n",
    "    # # Loss,Metric\n",
    "    \"BCEWithLogitsLoss\": nn.BCEWithLogitsLoss,\n",
    "    \"ROCAUC\": ROCAUC,\n",
    "\n",
    "    # # Metric Wrapper\n",
    "    \"micro_average\": micro_average,\n",
    "    \"calc_across_all_batchs\": calc_across_all_batchs,\n",
    "\n",
    "    # # PPE Extensions\n",
    "    \"ExtensionsManager\": ppe.training.ExtensionsManager,\n",
    "\n",
    "    \"observe_lr\": ppe_exts.observe_lr,\n",
    "    \"LogReport\": ppe_exts.LogReport,\n",
    "    \"PlotReport\": ppe_exts.PlotReport,\n",
    "    \"PrintReport\": ppe_exts.PrintReport,\n",
    "    \"PrintReportNotebook\": ppe_exts.PrintReportNotebook,\n",
    "    \"ProgressBar\": ppe_exts.ProgressBar,\n",
    "    \"ProgressBarNotebook\": ppe_exts.ProgressBarNotebook,\n",
    "    \"snapshot\": ppe_exts.snapshot,\n",
    "    \"LRScheduler\": ppe_exts.LRScheduler, \n",
    "\n",
    "    \"MinValueTrigger\": ppe_triggers.MinValueTrigger,\n",
    "    \"MaxValueTrigger\": ppe_triggers.MaxValueTrigger,\n",
    "    \"EarlyStoppingTrigger\": ppe_triggers.EarlyStoppingTrigger,\n",
    "}"
   ]
  },
  {
   "cell_type": "markdown",
   "id": "intellectual-bachelor",
   "metadata": {
    "papermill": {
     "duration": 0.032937,
     "end_time": "2021-08-01T23:43:08.313043",
     "exception": false,
     "start_time": "2021-08-01T23:43:08.280106",
     "status": "completed"
    },
    "tags": []
   },
   "source": [
    "## configration"
   ]
  },
  {
   "cell_type": "code",
   "execution_count": 10,
   "id": "accomplished-turner",
   "metadata": {
    "papermill": {
     "duration": 0.071893,
     "end_time": "2021-08-01T23:43:08.417848",
     "exception": false,
     "start_time": "2021-08-01T23:43:08.345955",
     "status": "completed"
    },
    "tags": []
   },
   "outputs": [],
   "source": [
    "pre_eval_cfg = yaml.safe_load(\n",
    "\"\"\"\n",
    "globals:\n",
    "  seed: 1086\n",
    "  val_fold: null  # indicate when training\n",
    "  output_path: null # indicate when training\n",
    "  device: cuda:1\n",
    "  enable_amp: False\n",
    "  max_epoch: 18\n",
    "\n",
    "model:\n",
    "  type: BasicImageModel\n",
    "  dims_head: [null, 1]\n",
    "  base_name: resnet18d\n",
    "  pretrained: True\n",
    "  in_channels: 3\n",
    "\n",
    "dataset:\n",
    "  height: 320\n",
    "  width: 320\n",
    "  mixup: {enabled: True, alpha: 1.0}\n",
    "  train:\n",
    "    type: SetiAObsDataset\n",
    "    paths: null  # set by lazy_init\n",
    "    labels: null  # set by lazy_init\n",
    "    transform:\n",
    "      type: Compose\n",
    "      transforms:\n",
    "        - {type: Resize, p: 1.0, height: \"@/dataset/height\", width: \"@/dataset/width\"}\n",
    "        - {type: HorizontalFlip, p: 0.5}\n",
    "        - {type: VerticalFlip, p: 0.5}\n",
    "        - {type: ShiftScaleRotate, p: 0.5, shift_limit: 0.2, scale_limit: 0.2,\n",
    "            rotate_limit: 20, border_mode: 0, value: 0, mask_value: 0}\n",
    "        - {type: RandomResizedCrop, p: 1.0,\n",
    "            scale: [0.9, 1.0], height: \"@/dataset/height\", width: \"@/dataset/width\"}\n",
    "        - {type: ToTensorV2, always_apply: True}\n",
    "  val:\n",
    "    type: SetiAObsDataset\n",
    "    paths: null  # set by lazy_init\n",
    "    labels: null  # set by lazy_init\n",
    "    transform:\n",
    "      type: Compose\n",
    "      transforms:\n",
    "        - {type: Resize, p: 1.0, height: \"@/dataset/height\", width: \"@/dataset/width\"}\n",
    "        - {type: ToTensorV2, always_apply: True}  \n",
    "  test:\n",
    "    type: SetiAObsDataset\n",
    "    paths: null  # set by lazy_init\n",
    "    labels: null  # set by lazy_init\n",
    "    transform: \"@/dataset/val/transform\"\n",
    "\n",
    "loader:\n",
    "  train: {type: DataLoader, dataset: \"@/dataset/train\",\n",
    "    batch_size: 42, num_workers: 4, shuffle: True, pin_memory: True, drop_last: True}\n",
    "  val: {type: DataLoader, dataset: \"@/dataset/val\",\n",
    "    batch_size: 42, num_workers: 4, shuffle: False, pin_memory: True, drop_last: False}\n",
    "  test: {type: DataLoader, dataset: \"@/dataset/test\",\n",
    "    batch_size: 42, num_workers: 4, shuffle: False, pin_memory: True, drop_last: False}\n",
    "\n",
    "optimizer:\n",
    "  type: AdamW\n",
    "  params: {type: method_call, obj: \"@/model\", method: parameters}\n",
    "  lr: 1.0e-05\n",
    "  weight_decay: 1.0e-04\n",
    "\n",
    "scheduler:\n",
    "  type: OneCycleLR\n",
    "  optimizer: \"@/optimizer\"\n",
    "  epochs: \"@/globals/max_epoch\"\n",
    "  steps_per_epoch: {type: __len__, obj: \"@/loader/train\"}\n",
    "  max_lr: 1.0e-3\n",
    "  pct_start: 0.111\n",
    "  anneal_strategy: cos\n",
    "  div_factor: 1.0e+2\n",
    "  final_div_factor: 1\n",
    "\n",
    "loss: {type: BCEWithLogitsLoss}\n",
    "\n",
    "eval:\n",
    "  - type: micro_average\n",
    "    metric_func: {type: BCEWithLogitsLoss}\n",
    "    report_name: loss\n",
    "  - type: calc_across_all_batchs\n",
    "    metric_func: {type: ROCAUC}\n",
    "    report_name: metric\n",
    "\n",
    "manager:\n",
    "  type: ExtensionsManager\n",
    "  models: \"@/model\"\n",
    "  optimizers: \"@/optimizer\"\n",
    "  max_epochs: \"@/globals/max_epoch\"\n",
    "  iters_per_epoch: {type: __len__, obj: \"@/loader/train\"}\n",
    "  out_dir: \"@/globals/output_path\"\n",
    "  # stop_trgiger: {type: EarlyStoppingTrigger,\n",
    "  #   monitor: val/metric, mode: max, patience: 5, verbose: True,\n",
    "  #   check_trigger: [1, epoch], max_trigger: [\"@/globals/max_epoch\", epoch]}\n",
    "\n",
    "extensions:\n",
    "  # # log\n",
    "  - {type: observe_lr, optimizer: \"@/optimizer\"}\n",
    "  - {type: LogReport}\n",
    "  - {type: PlotReport, y_keys: lr, x_key: epoch, filename: lr.png}\n",
    "  - {type: PlotReport, y_keys: [train/loss, val/loss], x_key: epoch, filename: loss.png}\n",
    "  - {type: PlotReport, y_keys: val/metric, x_key: epoch, filename: metric.png}\n",
    "  - {type: PrintReport, entries: [\n",
    "      epoch, iteration, lr, train/loss, val/loss, val/metric, elapsed_time]}\n",
    "  - {type: ProgressBarNotebook, update_interval: 20}\n",
    "  # snapshot\n",
    "  - extension: {type: snapshot, target: \"@/model\", filename: \"snapshot_by_metric_epoch_{.epoch}.pth\"}\n",
    "    trigger: {type: MaxValueTrigger, key: \"val/metric\", trigger: [1, epoch]}\n",
    "  # # lr scheduler\n",
    "  - {type: LRScheduler, scheduler: \"@/scheduler\", trigger: [1,  iteration]}\n",
    "\"\"\"\n",
    ")"
   ]
  },
  {
   "cell_type": "markdown",
   "id": "laden-liquid",
   "metadata": {
    "papermill": {
     "duration": 0.032164,
     "end_time": "2021-08-01T23:43:08.482820",
     "exception": false,
     "start_time": "2021-08-01T23:43:08.450656",
     "status": "completed"
    },
    "tags": []
   },
   "source": [
    "## functions for training"
   ]
  },
  {
   "cell_type": "code",
   "execution_count": 11,
   "id": "together-advice",
   "metadata": {
    "_kg_hide-input": true,
    "papermill": {
     "duration": 0.044568,
     "end_time": "2021-08-01T23:43:08.560293",
     "exception": false,
     "start_time": "2021-08-01T23:43:08.515725",
     "status": "completed"
    },
    "tags": []
   },
   "outputs": [],
   "source": [
    "def set_random_seed(seed: int = 42, deterministic: bool = False):\n",
    "    \"\"\"Set seeds\"\"\"\n",
    "    random.seed(seed)\n",
    "    np.random.seed(seed)\n",
    "    os.environ[\"PYTHONHASHSEED\"] = str(seed)\n",
    "    torch.manual_seed(seed)\n",
    "    torch.cuda.manual_seed(seed)  # type: ignore\n",
    "    torch.backends.cudnn.deterministic = deterministic  # type: ignore\n",
    "\n",
    "\n",
    "def to_device(\n",
    "    tensors: tp.Union[tp.Tuple[torch.Tensor], tp.Dict[str, torch.Tensor]],\n",
    "    device: torch.device, *args, **kwargs\n",
    "):\n",
    "    if isinstance(tensors, tuple):\n",
    "        return (t.to(device, *args, **kwargs) for t in tensors)\n",
    "    elif isinstance(tensors, dict):\n",
    "        return {\n",
    "            k: t.to(device, *args, **kwargs) for k, t in tensors.items()}\n",
    "    else:\n",
    "        return tensors.to(device, *args, **kwargs)"
   ]
  },
  {
   "cell_type": "code",
   "execution_count": 12,
   "id": "instant-wright",
   "metadata": {
    "_kg_hide-input": true,
    "papermill": {
     "duration": 0.051254,
     "end_time": "2021-08-01T23:43:08.644825",
     "exception": false,
     "start_time": "2021-08-01T23:43:08.593571",
     "status": "completed"
    },
    "tags": []
   },
   "outputs": [],
   "source": [
    "def get_path_label(cfg: Config, train_all: pd.DataFrame):\n",
    "    \"\"\"Get file path and target info.\"\"\"\n",
    "    use_fold = cfg[\"/globals/val_fold\"]\n",
    "\n",
    "    train_df = train_all[train_all[\"fold\"] != use_fold]\n",
    "    val_df = train_all[train_all[\"fold\"] == use_fold]\n",
    "    \n",
    "    train_path_label = {\n",
    "        \"paths\": [TRAIN / f\"{img_id[0]}/{img_id}.npy\" for img_id in train_df[\"id\"].values],\n",
    "        \"labels\": train_df[CLASSES].values.astype(\"f\")}\n",
    "    val_path_label = {\n",
    "        \"paths\": [TRAIN / f\"{img_id[0]}/{img_id}.npy\" for img_id in val_df[\"id\"].values],\n",
    "        \"labels\": val_df[CLASSES].values.astype(\"f\")\n",
    "    }\n",
    "    return train_path_label, val_path_label\n",
    "\n",
    "\n",
    "def get_eval_func(cfg, model, device):\n",
    "    \n",
    "    def eval_func(**batch):\n",
    "        \"\"\"Run evaliation for val or test. This function is applied to each batch.\"\"\"\n",
    "        batch = to_device(batch, device)\n",
    "        x = batch[\"image\"]\n",
    "        with amp.autocast(cfg[\"/globals/enable_amp\"]): \n",
    "            y = model(x)\n",
    "        return y.detach().cpu().to(torch.float32)  # input of metrics\n",
    "\n",
    "    return eval_func\n",
    "\n",
    "\n",
    "def mixup_data(use_mixup, x, t, alpha=1.0, use_cuda=True, device=\"cuda:0\"):\n",
    "    '''Returns mixed inputs, pairs of targets, and lambda'''\n",
    "    if not use_mixup:\n",
    "        return x, t, None, None\n",
    "    \n",
    "    if alpha > 0:\n",
    "        lam = np.random.beta(alpha, alpha)\n",
    "    else:\n",
    "        lam = 1\n",
    "\n",
    "    batch_size = x.size()[0]\n",
    "    if use_cuda:\n",
    "        index = torch.randperm(batch_size).cuda(device)\n",
    "    else:\n",
    "        index = torch.randperm(batch_size)\n",
    "\n",
    "    mixed_x = lam * x + (1 - lam) * x[index, :]\n",
    "    t_a, t_b = t, t[index]\n",
    "    return mixed_x, t_a, t_b, lam\n",
    "\n",
    "\n",
    "def get_criterion(use_mixup, loss_func):\n",
    "\n",
    "    def mixup_criterion(pred, t_a, t_b, lam):\n",
    "        return lam * loss_func(pred, t_a) + (1 - lam) * loss_func(pred, t_b)\n",
    "\n",
    "    def single_criterion(pred, t_a, t_b, lam):\n",
    "        return loss_func(pred, t_a)\n",
    "    \n",
    "    if use_mixup:\n",
    "        return mixup_criterion\n",
    "    else:\n",
    "        return single_criterion"
   ]
  },
  {
   "cell_type": "code",
   "execution_count": 13,
   "id": "accepted-vessel",
   "metadata": {
    "papermill": {
     "duration": 0.049598,
     "end_time": "2021-08-01T23:43:08.726392",
     "exception": false,
     "start_time": "2021-08-01T23:43:08.676794",
     "status": "completed"
    },
    "tags": []
   },
   "outputs": [],
   "source": [
    "def train_one_fold(cfg, train_all):\n",
    "    \"\"\"Main\"\"\"\n",
    "    torch.backends.cudnn.benchmark = True\n",
    "    set_random_seed(cfg[\"/globals/seed\"], deterministic=True)\n",
    "    device = torch.device(cfg[\"/globals/device\"])\n",
    "    \n",
    "    train_path_label, val_path_label = get_path_label(cfg, train_all)\n",
    "    print(\"train: {}, val: {}\".format(len(train_path_label[\"paths\"]), len(val_path_label[\"paths\"])))\n",
    "   \n",
    "    cfg[\"/dataset/train\"].lazy_init(**train_path_label)\n",
    "    cfg[\"/dataset/val\"].lazy_init(**val_path_label)\n",
    "    train_loader = cfg[\"/loader/train\"]\n",
    "    val_loader = cfg[\"/loader/val\"]\n",
    "\n",
    "    model = cfg[\"/model\"]\n",
    "    model.to(device)\n",
    "    optimizer = cfg[\"/optimizer\"]\n",
    "    loss_func = cfg[\"/loss\"]\n",
    "    loss_func.to(device)\n",
    "    \n",
    "    manager = cfg[\"/manager\"]\n",
    "    for ext in cfg[\"/extensions\"]:\n",
    "        if isinstance(ext, dict):\n",
    "            manager.extend(**ext)\n",
    "        else:\n",
    "            manager.extend(ext)\n",
    "\n",
    "    evaluator = ppe_exts.Evaluator(\n",
    "        val_loader, model, eval_func=get_eval_func(cfg, model, device),\n",
    "        metrics=cfg[\"/eval\"], progress_bar=False)\n",
    "    manager.extend(evaluator, trigger=(1, \"epoch\"))\n",
    "\n",
    "    use_amp = cfg[\"/globals/enable_amp\"]\n",
    "    scaler = amp.GradScaler(enabled=use_amp)\n",
    "    use_mixup = cfg[\"/dataset/mixup/enabled\"]\n",
    "    mixup_alpha = cfg[\"/dataset/mixup/alpha\"]\n",
    "    \n",
    "    while not manager.stop_trigger:\n",
    "        model.train()\n",
    "        for batch in train_loader:\n",
    "            with manager.run_iteration():\n",
    "                batch = to_device(batch, device)\n",
    "                x, t = batch[\"image\"], batch[\"target\"]\n",
    "                # # for mixup\n",
    "                mixed_x, t_a, t_b, lam = mixup_data(use_mixup, x, t, mixup_alpha, device=cfg[\"/globals/device\"])\n",
    "                criterion = get_criterion(use_mixup, loss_func)\n",
    "                \n",
    "                optimizer.zero_grad()\n",
    "                with amp.autocast(use_amp):\n",
    "                    y = model(mixed_x)\n",
    "                    loss = criterion(y, t_a, t_b, lam)\n",
    "                scaler.scale(loss).backward()\n",
    "                scaler.step(optimizer)\n",
    "                scaler.update()\n",
    "                \n",
    "                ppe.reporting.report({'train/loss': loss.item()})"
   ]
  },
  {
   "cell_type": "markdown",
   "id": "elder-forward",
   "metadata": {
    "papermill": {
     "duration": 0.033166,
     "end_time": "2021-08-01T23:43:08.792077",
     "exception": false,
     "start_time": "2021-08-01T23:43:08.758911",
     "status": "completed"
    },
    "tags": []
   },
   "source": [
    "## run train"
   ]
  },
  {
   "cell_type": "code",
   "execution_count": 14,
   "id": "orange-marina",
   "metadata": {
    "papermill": {
     "duration": 0.313651,
     "end_time": "2021-08-01T23:43:09.212470",
     "exception": true,
     "start_time": "2021-08-01T23:43:08.898819",
     "status": "failed"
    },
    "tags": []
   },
   "outputs": [],
   "source": [
    "pre_eval_cfg_list = []\n",
    "for fold_id in FOLDS:\n",
    "    tmp_cfg = copy.deepcopy(pre_eval_cfg)\n",
    "    tmp_cfg[\"globals\"][\"val_fold\"] = fold_id\n",
    "    tmp_cfg[\"globals\"][\"output_path\"] = str(TMP / f\"fold{fold_id}\")\n",
    "    pre_eval_cfg_list.append(tmp_cfg)"
   ]
  },
  {
   "cell_type": "code",
   "execution_count": 15,
   "id": "polish-louisiana",
   "metadata": {
    "papermill": {
     "duration": null,
     "end_time": null,
     "exception": null,
     "start_time": null,
     "status": "pending"
    },
    "tags": []
   },
   "outputs": [
    {
     "name": "stdout",
     "output_type": "stream",
     "text": [
      "\n",
      "[fold 2]\n",
      "train: 48000, val: 12000\n",
      "load imagenet pretrained: True\n",
      "resnet18d: 512\n"
     ]
    },
    {
     "data": {
      "application/vnd.jupyter.widget-view+json": {
       "model_id": "9366756d80a0484bbedaa6a19fd01c36",
       "version_major": 2,
       "version_minor": 0
      },
      "text/plain": [
       "VBox(children=(HBox(children=(FloatProgress(value=0.0, bar_style='info', description='total', max=1.0), HTML(v…"
      ]
     },
     "metadata": {},
     "output_type": "display_data"
    },
    {
     "name": "stderr",
     "output_type": "stream",
     "text": [
      "/home/yamaguchi-milkcocholate/.pyenv/versions/SETI/lib/python3.7/site-packages/torch/nn/functional.py:718: UserWarning: Named tensors and all their associated APIs are an experimental feature and subject to change. Please do not use them for anything important until they are released as stable. (Triggered internally at  /pytorch/c10/core/TensorImpl.h:1156.)\n",
      "  return torch.max_pool2d(input, kernel_size, stride, padding, dilation, ceil_mode)\n"
     ]
    },
    {
     "name": "stdout",
     "output_type": "stream",
     "text": [
      "epoch       iteration   lr          train/loss  val/loss    val/metric  elapsed_time\n"
     ]
    },
    {
     "name": "stderr",
     "output_type": "stream",
     "text": [
      "[W pthreadpool-cpp.cc:90] Warning: Leaking Caffe2 thread-pool after fork. (function pthreadpool)\n",
      "[W pthreadpool-cpp.cc:90] Warning: Leaking Caffe2 thread-pool after fork. (function pthreadpool)\n",
      "[W pthreadpool-cpp.cc:90] Warning: Leaking Caffe2 thread-pool after fork. (function pthreadpool)\n",
      "[W pthreadpool-cpp.cc:90] Warning: Leaking Caffe2 thread-pool after fork. (function pthreadpool)\n",
      "[W pthreadpool-cpp.cc:90] Warning: Leaking Caffe2 thread-pool after fork. (function pthreadpool)\n"
     ]
    },
    {
     "name": "stdout",
     "output_type": "stream",
     "text": [
      "\u001b[J1           1142        0.000505438  0.371929    0.331729    0.486434    173.076       \n"
     ]
    },
    {
     "name": "stderr",
     "output_type": "stream",
     "text": [
      "[W pthreadpool-cpp.cc:90] Warning: Leaking Caffe2 thread-pool after fork. (function pthreadpool)\n",
      "[W pthreadpool-cpp.cc:90] Warning: Leaking Caffe2 thread-pool after fork. (function pthreadpool)\n",
      "[W pthreadpool-cpp.cc:90] Warning: Leaking Caffe2 thread-pool after fork. (function pthreadpool)\n",
      "[W pthreadpool-cpp.cc:90] Warning: Leaking Caffe2 thread-pool after fork. (function pthreadpool)\n",
      "[W pthreadpool-cpp.cc:90] Warning: Leaking Caffe2 thread-pool after fork. (function pthreadpool)\n",
      "[W pthreadpool-cpp.cc:90] Warning: Leaking Caffe2 thread-pool after fork. (function pthreadpool)\n",
      "[W pthreadpool-cpp.cc:90] Warning: Leaking Caffe2 thread-pool after fork. (function pthreadpool)\n",
      "[W pthreadpool-cpp.cc:90] Warning: Leaking Caffe2 thread-pool after fork. (function pthreadpool)\n",
      "[W pthreadpool-cpp.cc:90] Warning: Leaking Caffe2 thread-pool after fork. (function pthreadpool)\n"
     ]
    },
    {
     "name": "stdout",
     "output_type": "stream",
     "text": [
      "\u001b[J2           2284        0.001       0.331797    0.326778    0.507474    347.974       \n"
     ]
    },
    {
     "name": "stderr",
     "output_type": "stream",
     "text": [
      "[W pthreadpool-cpp.cc:90] Warning: Leaking Caffe2 thread-pool after fork. (function pthreadpool)\n",
      "[W pthreadpool-cpp.cc:90] Warning: Leaking Caffe2 thread-pool after fork. (function pthreadpool)\n",
      "[W pthreadpool-cpp.cc:90] Warning: Leaking Caffe2 thread-pool after fork. (function pthreadpool)\n",
      "[W pthreadpool-cpp.cc:90] Warning: Leaking Caffe2 thread-pool after fork. (function pthreadpool)\n",
      "[W pthreadpool-cpp.cc:90] Warning: Leaking Caffe2 thread-pool after fork. (function pthreadpool)\n",
      "[W pthreadpool-cpp.cc:90] Warning: Leaking Caffe2 thread-pool after fork. (function pthreadpool)\n",
      "[W pthreadpool-cpp.cc:90] Warning: Leaking Caffe2 thread-pool after fork. (function pthreadpool)\n",
      "[W pthreadpool-cpp.cc:90] Warning: Leaking Caffe2 thread-pool after fork. (function pthreadpool)\n"
     ]
    },
    {
     "name": "stdout",
     "output_type": "stream",
     "text": [
      "\u001b[J3           3426        0.000990453  0.328459    0.317312    0.579064    519.588       \n"
     ]
    },
    {
     "name": "stderr",
     "output_type": "stream",
     "text": [
      "[W pthreadpool-cpp.cc:90] Warning: Leaking Caffe2 thread-pool after fork. (function pthreadpool)\n",
      "[W pthreadpool-cpp.cc:90] Warning: Leaking Caffe2 thread-pool after fork. (function pthreadpool)\n",
      "[W pthreadpool-cpp.cc:90] Warning: Leaking Caffe2 thread-pool after fork. (function pthreadpool)\n",
      "[W pthreadpool-cpp.cc:90] Warning: Leaking Caffe2 thread-pool after fork. (function pthreadpool)\n",
      "[W pthreadpool-cpp.cc:90] Warning: Leaking Caffe2 thread-pool after fork. (function pthreadpool)\n",
      "[W pthreadpool-cpp.cc:90] Warning: Leaking Caffe2 thread-pool after fork. (function pthreadpool)\n",
      "[W pthreadpool-cpp.cc:90] Warning: Leaking Caffe2 thread-pool after fork. (function pthreadpool)\n",
      "[W pthreadpool-cpp.cc:90] Warning: Leaking Caffe2 thread-pool after fork. (function pthreadpool)\n"
     ]
    },
    {
     "name": "stdout",
     "output_type": "stream",
     "text": [
      "\u001b[J4           4568        0.000962255  0.319334    0.284667    0.675737    689.574       \n"
     ]
    },
    {
     "name": "stderr",
     "output_type": "stream",
     "text": [
      "[W pthreadpool-cpp.cc:90] Warning: Leaking Caffe2 thread-pool after fork. (function pthreadpool)\n",
      "[W pthreadpool-cpp.cc:90] Warning: Leaking Caffe2 thread-pool after fork. (function pthreadpool)\n",
      "[W pthreadpool-cpp.cc:90] Warning: Leaking Caffe2 thread-pool after fork. (function pthreadpool)\n",
      "[W pthreadpool-cpp.cc:90] Warning: Leaking Caffe2 thread-pool after fork. (function pthreadpool)\n",
      "[W pthreadpool-cpp.cc:90] Warning: Leaking Caffe2 thread-pool after fork. (function pthreadpool)\n",
      "[W pthreadpool-cpp.cc:90] Warning: Leaking Caffe2 thread-pool after fork. (function pthreadpool)\n",
      "[W pthreadpool-cpp.cc:90] Warning: Leaking Caffe2 thread-pool after fork. (function pthreadpool)\n",
      "[W pthreadpool-cpp.cc:90] Warning: Leaking Caffe2 thread-pool after fork. (function pthreadpool)\n"
     ]
    },
    {
     "name": "stdout",
     "output_type": "stream",
     "text": [
      "\u001b[J5           5710        0.00091649  0.305992    0.270571    0.712297    859.772       \n"
     ]
    },
    {
     "name": "stderr",
     "output_type": "stream",
     "text": [
      "[W pthreadpool-cpp.cc:90] Warning: Leaking Caffe2 thread-pool after fork. (function pthreadpool)\n",
      "[W pthreadpool-cpp.cc:90] Warning: Leaking Caffe2 thread-pool after fork. (function pthreadpool)\n",
      "[W pthreadpool-cpp.cc:90] Warning: Leaking Caffe2 thread-pool after fork. (function pthreadpool)\n",
      "[W pthreadpool-cpp.cc:90] Warning: Leaking Caffe2 thread-pool after fork. (function pthreadpool)\n",
      "[W pthreadpool-cpp.cc:90] Warning: Leaking Caffe2 thread-pool after fork. (function pthreadpool)\n",
      "[W pthreadpool-cpp.cc:90] Warning: Leaking Caffe2 thread-pool after fork. (function pthreadpool)\n",
      "[W pthreadpool-cpp.cc:90] Warning: Leaking Caffe2 thread-pool after fork. (function pthreadpool)\n",
      "[W pthreadpool-cpp.cc:90] Warning: Leaking Caffe2 thread-pool after fork. (function pthreadpool)\n"
     ]
    },
    {
     "name": "stdout",
     "output_type": "stream",
     "text": [
      "\u001b[J6           6852        0.000854915  0.299631    0.264779    0.741327    1029.65       \n"
     ]
    },
    {
     "name": "stderr",
     "output_type": "stream",
     "text": [
      "[W pthreadpool-cpp.cc:90] Warning: Leaking Caffe2 thread-pool after fork. (function pthreadpool)\n",
      "[W pthreadpool-cpp.cc:90] Warning: Leaking Caffe2 thread-pool after fork. (function pthreadpool)\n",
      "[W pthreadpool-cpp.cc:90] Warning: Leaking Caffe2 thread-pool after fork. (function pthreadpool)\n",
      "[W pthreadpool-cpp.cc:90] Warning: Leaking Caffe2 thread-pool after fork. (function pthreadpool)\n",
      "[W pthreadpool-cpp.cc:90] Warning: Leaking Caffe2 thread-pool after fork. (function pthreadpool)\n",
      "[W pthreadpool-cpp.cc:90] Warning: Leaking Caffe2 thread-pool after fork. (function pthreadpool)\n",
      "[W pthreadpool-cpp.cc:90] Warning: Leaking Caffe2 thread-pool after fork. (function pthreadpool)\n",
      "[W pthreadpool-cpp.cc:90] Warning: Leaking Caffe2 thread-pool after fork. (function pthreadpool)\n"
     ]
    },
    {
     "name": "stdout",
     "output_type": "stream",
     "text": [
      "\u001b[J7           7994        0.000779896  0.297733    0.268613    0.739929    1199.66       \n"
     ]
    },
    {
     "name": "stderr",
     "output_type": "stream",
     "text": [
      "[W pthreadpool-cpp.cc:90] Warning: Leaking Caffe2 thread-pool after fork. (function pthreadpool)\n",
      "[W pthreadpool-cpp.cc:90] Warning: Leaking Caffe2 thread-pool after fork. (function pthreadpool)\n",
      "[W pthreadpool-cpp.cc:90] Warning: Leaking Caffe2 thread-pool after fork. (function pthreadpool)\n",
      "[W pthreadpool-cpp.cc:90] Warning: Leaking Caffe2 thread-pool after fork. (function pthreadpool)\n",
      "[W pthreadpool-cpp.cc:90] Warning: Leaking Caffe2 thread-pool after fork. (function pthreadpool)\n",
      "[W pthreadpool-cpp.cc:90] Warning: Leaking Caffe2 thread-pool after fork. (function pthreadpool)\n",
      "[W pthreadpool-cpp.cc:90] Warning: Leaking Caffe2 thread-pool after fork. (function pthreadpool)\n",
      "[W pthreadpool-cpp.cc:90] Warning: Leaking Caffe2 thread-pool after fork. (function pthreadpool)\n"
     ]
    },
    {
     "name": "stdout",
     "output_type": "stream",
     "text": [
      "\u001b[J8           9136        0.000694316  0.293648    0.264422    0.740155    1369.47       \n"
     ]
    },
    {
     "name": "stderr",
     "output_type": "stream",
     "text": [
      "[W pthreadpool-cpp.cc:90] Warning: Leaking Caffe2 thread-pool after fork. (function pthreadpool)\n",
      "[W pthreadpool-cpp.cc:90] Warning: Leaking Caffe2 thread-pool after fork. (function pthreadpool)\n",
      "[W pthreadpool-cpp.cc:90] Warning: Leaking Caffe2 thread-pool after fork. (function pthreadpool)\n",
      "[W pthreadpool-cpp.cc:90] Warning: Leaking Caffe2 thread-pool after fork. (function pthreadpool)\n",
      "[W pthreadpool-cpp.cc:90] Warning: Leaking Caffe2 thread-pool after fork. (function pthreadpool)\n",
      "[W pthreadpool-cpp.cc:90] Warning: Leaking Caffe2 thread-pool after fork. (function pthreadpool)\n",
      "[W pthreadpool-cpp.cc:90] Warning: Leaking Caffe2 thread-pool after fork. (function pthreadpool)\n",
      "[W pthreadpool-cpp.cc:90] Warning: Leaking Caffe2 thread-pool after fork. (function pthreadpool)\n"
     ]
    },
    {
     "name": "stdout",
     "output_type": "stream",
     "text": [
      "\u001b[J9           10278       0.000601462  0.292183    0.251717    0.753009    1539.31       \n"
     ]
    },
    {
     "name": "stderr",
     "output_type": "stream",
     "text": [
      "[W pthreadpool-cpp.cc:90] Warning: Leaking Caffe2 thread-pool after fork. (function pthreadpool)\n",
      "[W pthreadpool-cpp.cc:90] Warning: Leaking Caffe2 thread-pool after fork. (function pthreadpool)\n",
      "[W pthreadpool-cpp.cc:90] Warning: Leaking Caffe2 thread-pool after fork. (function pthreadpool)\n",
      "[W pthreadpool-cpp.cc:90] Warning: Leaking Caffe2 thread-pool after fork. (function pthreadpool)\n",
      "[W pthreadpool-cpp.cc:90] Warning: Leaking Caffe2 thread-pool after fork. (function pthreadpool)\n",
      "[W pthreadpool-cpp.cc:90] Warning: Leaking Caffe2 thread-pool after fork. (function pthreadpool)\n",
      "[W pthreadpool-cpp.cc:90] Warning: Leaking Caffe2 thread-pool after fork. (function pthreadpool)\n",
      "[W pthreadpool-cpp.cc:90] Warning: Leaking Caffe2 thread-pool after fork. (function pthreadpool)\n"
     ]
    },
    {
     "name": "stdout",
     "output_type": "stream",
     "text": [
      "\u001b[J10          11420       0.000504903  0.291443    0.248454    0.75932     1709.49       \n"
     ]
    },
    {
     "name": "stderr",
     "output_type": "stream",
     "text": [
      "[W pthreadpool-cpp.cc:90] Warning: Leaking Caffe2 thread-pool after fork. (function pthreadpool)\n",
      "[W pthreadpool-cpp.cc:90] Warning: Leaking Caffe2 thread-pool after fork. (function pthreadpool)\n",
      "[W pthreadpool-cpp.cc:90] Warning: Leaking Caffe2 thread-pool after fork. (function pthreadpool)\n",
      "[W pthreadpool-cpp.cc:90] Warning: Leaking Caffe2 thread-pool after fork. (function pthreadpool)\n",
      "[W pthreadpool-cpp.cc:90] Warning: Leaking Caffe2 thread-pool after fork. (function pthreadpool)\n",
      "[W pthreadpool-cpp.cc:90] Warning: Leaking Caffe2 thread-pool after fork. (function pthreadpool)\n",
      "[W pthreadpool-cpp.cc:90] Warning: Leaking Caffe2 thread-pool after fork. (function pthreadpool)\n",
      "[W pthreadpool-cpp.cc:90] Warning: Leaking Caffe2 thread-pool after fork. (function pthreadpool)\n"
     ]
    },
    {
     "name": "stdout",
     "output_type": "stream",
     "text": [
      "\u001b[J11          12562       0.000408347  0.288013    0.244678    0.759895    1879.26       \n"
     ]
    },
    {
     "name": "stderr",
     "output_type": "stream",
     "text": [
      "[W pthreadpool-cpp.cc:90] Warning: Leaking Caffe2 thread-pool after fork. (function pthreadpool)\n",
      "[W pthreadpool-cpp.cc:90] Warning: Leaking Caffe2 thread-pool after fork. (function pthreadpool)\n",
      "[W pthreadpool-cpp.cc:90] Warning: Leaking Caffe2 thread-pool after fork. (function pthreadpool)\n",
      "[W pthreadpool-cpp.cc:90] Warning: Leaking Caffe2 thread-pool after fork. (function pthreadpool)\n",
      "[W pthreadpool-cpp.cc:90] Warning: Leaking Caffe2 thread-pool after fork. (function pthreadpool)\n",
      "[W pthreadpool-cpp.cc:90] Warning: Leaking Caffe2 thread-pool after fork. (function pthreadpool)\n",
      "[W pthreadpool-cpp.cc:90] Warning: Leaking Caffe2 thread-pool after fork. (function pthreadpool)\n",
      "[W pthreadpool-cpp.cc:90] Warning: Leaking Caffe2 thread-pool after fork. (function pthreadpool)\n"
     ]
    },
    {
     "name": "stdout",
     "output_type": "stream",
     "text": [
      "\u001b[J12          13704       0.000315504  0.287028    0.245174    0.761103    2049.37       \n"
     ]
    },
    {
     "name": "stderr",
     "output_type": "stream",
     "text": [
      "[W pthreadpool-cpp.cc:90] Warning: Leaking Caffe2 thread-pool after fork. (function pthreadpool)\n",
      "[W pthreadpool-cpp.cc:90] Warning: Leaking Caffe2 thread-pool after fork. (function pthreadpool)\n",
      "[W pthreadpool-cpp.cc:90] Warning: Leaking Caffe2 thread-pool after fork. (function pthreadpool)\n",
      "[W pthreadpool-cpp.cc:90] Warning: Leaking Caffe2 thread-pool after fork. (function pthreadpool)\n",
      "[W pthreadpool-cpp.cc:90] Warning: Leaking Caffe2 thread-pool after fork. (function pthreadpool)\n",
      "[W pthreadpool-cpp.cc:90] Warning: Leaking Caffe2 thread-pool after fork. (function pthreadpool)\n",
      "[W pthreadpool-cpp.cc:90] Warning: Leaking Caffe2 thread-pool after fork. (function pthreadpool)\n",
      "[W pthreadpool-cpp.cc:90] Warning: Leaking Caffe2 thread-pool after fork. (function pthreadpool)\n"
     ]
    },
    {
     "name": "stdout",
     "output_type": "stream",
     "text": [
      "\u001b[J13          14846       0.000229942  0.284871    0.242566    0.767937    2219.36       \n"
     ]
    },
    {
     "name": "stderr",
     "output_type": "stream",
     "text": [
      "[W pthreadpool-cpp.cc:90] Warning: Leaking Caffe2 thread-pool after fork. (function pthreadpool)\n",
      "[W pthreadpool-cpp.cc:90] Warning: Leaking Caffe2 thread-pool after fork. (function pthreadpool)\n",
      "[W pthreadpool-cpp.cc:90] Warning: Leaking Caffe2 thread-pool after fork. (function pthreadpool)\n",
      "[W pthreadpool-cpp.cc:90] Warning: Leaking Caffe2 thread-pool after fork. (function pthreadpool)\n",
      "[W pthreadpool-cpp.cc:90] Warning: Leaking Caffe2 thread-pool after fork. (function pthreadpool)\n",
      "[W pthreadpool-cpp.cc:90] Warning: Leaking Caffe2 thread-pool after fork. (function pthreadpool)\n",
      "[W pthreadpool-cpp.cc:90] Warning: Leaking Caffe2 thread-pool after fork. (function pthreadpool)\n",
      "[W pthreadpool-cpp.cc:90] Warning: Leaking Caffe2 thread-pool after fork. (function pthreadpool)\n"
     ]
    },
    {
     "name": "stdout",
     "output_type": "stream",
     "text": [
      "\u001b[J14          15988       0.000154948  0.28414     0.239032    0.770047    2389.51       \n"
     ]
    },
    {
     "name": "stderr",
     "output_type": "stream",
     "text": [
      "[W pthreadpool-cpp.cc:90] Warning: Leaking Caffe2 thread-pool after fork. (function pthreadpool)\n",
      "[W pthreadpool-cpp.cc:90] Warning: Leaking Caffe2 thread-pool after fork. (function pthreadpool)\n",
      "[W pthreadpool-cpp.cc:90] Warning: Leaking Caffe2 thread-pool after fork. (function pthreadpool)\n",
      "[W pthreadpool-cpp.cc:90] Warning: Leaking Caffe2 thread-pool after fork. (function pthreadpool)\n",
      "[W pthreadpool-cpp.cc:90] Warning: Leaking Caffe2 thread-pool after fork. (function pthreadpool)\n",
      "[W pthreadpool-cpp.cc:90] Warning: Leaking Caffe2 thread-pool after fork. (function pthreadpool)\n",
      "[W pthreadpool-cpp.cc:90] Warning: Leaking Caffe2 thread-pool after fork. (function pthreadpool)\n",
      "[W pthreadpool-cpp.cc:90] Warning: Leaking Caffe2 thread-pool after fork. (function pthreadpool)\n"
     ]
    },
    {
     "name": "stdout",
     "output_type": "stream",
     "text": [
      "\u001b[J15          17130       9.34023e-05  0.282041    0.238239    0.77257     2559.55       \n"
     ]
    },
    {
     "name": "stderr",
     "output_type": "stream",
     "text": [
      "[W pthreadpool-cpp.cc:90] Warning: Leaking Caffe2 thread-pool after fork. (function pthreadpool)\n",
      "[W pthreadpool-cpp.cc:90] Warning: Leaking Caffe2 thread-pool after fork. (function pthreadpool)\n",
      "[W pthreadpool-cpp.cc:90] Warning: Leaking Caffe2 thread-pool after fork. (function pthreadpool)\n",
      "[W pthreadpool-cpp.cc:90] Warning: Leaking Caffe2 thread-pool after fork. (function pthreadpool)\n",
      "[W pthreadpool-cpp.cc:90] Warning: Leaking Caffe2 thread-pool after fork. (function pthreadpool)\n",
      "[W pthreadpool-cpp.cc:90] Warning: Leaking Caffe2 thread-pool after fork. (function pthreadpool)\n",
      "[W pthreadpool-cpp.cc:90] Warning: Leaking Caffe2 thread-pool after fork. (function pthreadpool)\n",
      "[W pthreadpool-cpp.cc:90] Warning: Leaking Caffe2 thread-pool after fork. (function pthreadpool)\n"
     ]
    },
    {
     "name": "stdout",
     "output_type": "stream",
     "text": [
      "\u001b[J16          18272       4.76703e-05  0.282803    0.237041    0.771222    2729.61       \n"
     ]
    },
    {
     "name": "stderr",
     "output_type": "stream",
     "text": [
      "[W pthreadpool-cpp.cc:90] Warning: Leaking Caffe2 thread-pool after fork. (function pthreadpool)\n",
      "[W pthreadpool-cpp.cc:90] Warning: Leaking Caffe2 thread-pool after fork. (function pthreadpool)\n",
      "[W pthreadpool-cpp.cc:90] Warning: Leaking Caffe2 thread-pool after fork. (function pthreadpool)\n",
      "[W pthreadpool-cpp.cc:90] Warning: Leaking Caffe2 thread-pool after fork. (function pthreadpool)\n",
      "[W pthreadpool-cpp.cc:90] Warning: Leaking Caffe2 thread-pool after fork. (function pthreadpool)\n",
      "[W pthreadpool-cpp.cc:90] Warning: Leaking Caffe2 thread-pool after fork. (function pthreadpool)\n",
      "[W pthreadpool-cpp.cc:90] Warning: Leaking Caffe2 thread-pool after fork. (function pthreadpool)\n",
      "[W pthreadpool-cpp.cc:90] Warning: Leaking Caffe2 thread-pool after fork. (function pthreadpool)\n"
     ]
    },
    {
     "name": "stdout",
     "output_type": "stream",
     "text": [
      "\u001b[J17          19414       1.95089e-05  0.280977    0.237717    0.773716    2899.59       \n"
     ]
    },
    {
     "name": "stderr",
     "output_type": "stream",
     "text": [
      "[W pthreadpool-cpp.cc:90] Warning: Leaking Caffe2 thread-pool after fork. (function pthreadpool)\n",
      "[W pthreadpool-cpp.cc:90] Warning: Leaking Caffe2 thread-pool after fork. (function pthreadpool)\n",
      "[W pthreadpool-cpp.cc:90] Warning: Leaking Caffe2 thread-pool after fork. (function pthreadpool)\n",
      "[W pthreadpool-cpp.cc:90] Warning: Leaking Caffe2 thread-pool after fork. (function pthreadpool)\n",
      "[W pthreadpool-cpp.cc:90] Warning: Leaking Caffe2 thread-pool after fork. (function pthreadpool)\n",
      "[W pthreadpool-cpp.cc:90] Warning: Leaking Caffe2 thread-pool after fork. (function pthreadpool)\n",
      "[W pthreadpool-cpp.cc:90] Warning: Leaking Caffe2 thread-pool after fork. (function pthreadpool)\n",
      "[W pthreadpool-cpp.cc:90] Warning: Leaking Caffe2 thread-pool after fork. (function pthreadpool)\n"
     ]
    },
    {
     "name": "stdout",
     "output_type": "stream",
     "text": [
      "\u001b[J18          20556       1e-05       0.279571    0.235943    0.772763    3069.6        \n",
      "\n",
      "[fold 3]\n",
      "train: 48000, val: 12000\n",
      "load imagenet pretrained: True\n",
      "resnet18d: 512\n"
     ]
    },
    {
     "data": {
      "application/vnd.jupyter.widget-view+json": {
       "model_id": "33754358a29e40ba898332e39c0daa4e",
       "version_major": 2,
       "version_minor": 0
      },
      "text/plain": [
       "VBox(children=(HBox(children=(FloatProgress(value=0.0, bar_style='info', description='total', max=1.0), HTML(v…"
      ]
     },
     "metadata": {},
     "output_type": "display_data"
    },
    {
     "name": "stderr",
     "output_type": "stream",
     "text": [
      "[W pthreadpool-cpp.cc:90] Warning: Leaking Caffe2 thread-pool after fork. (function pthreadpool)\n",
      "[W pthreadpool-cpp.cc:90] Warning: Leaking Caffe2 thread-pool after fork. (function pthreadpool)\n",
      "[W pthreadpool-cpp.cc:90] Warning: Leaking Caffe2 thread-pool after fork. (function pthreadpool)\n",
      "[W pthreadpool-cpp.cc:90] Warning: Leaking Caffe2 thread-pool after fork. (function pthreadpool)\n"
     ]
    },
    {
     "name": "stdout",
     "output_type": "stream",
     "text": [
      "epoch       iteration   lr          train/loss  val/loss    val/metric  elapsed_time\n"
     ]
    },
    {
     "name": "stderr",
     "output_type": "stream",
     "text": [
      "[W pthreadpool-cpp.cc:90] Warning: Leaking Caffe2 thread-pool after fork. (function pthreadpool)\n",
      "[W pthreadpool-cpp.cc:90] Warning: Leaking Caffe2 thread-pool after fork. (function pthreadpool)\n",
      "[W pthreadpool-cpp.cc:90] Warning: Leaking Caffe2 thread-pool after fork. (function pthreadpool)\n",
      "[W pthreadpool-cpp.cc:90] Warning: Leaking Caffe2 thread-pool after fork. (function pthreadpool)\n"
     ]
    },
    {
     "name": "stdout",
     "output_type": "stream",
     "text": [
      "\u001b[J1           1142        0.000505438  0.373467    0.338574    0.495414    169.173       \n"
     ]
    },
    {
     "name": "stderr",
     "output_type": "stream",
     "text": [
      "[W pthreadpool-cpp.cc:90] Warning: Leaking Caffe2 thread-pool after fork. (function pthreadpool)\n",
      "[W pthreadpool-cpp.cc:90] Warning: Leaking Caffe2 thread-pool after fork. (function pthreadpool)\n",
      "[W pthreadpool-cpp.cc:90] Warning: Leaking Caffe2 thread-pool after fork. (function pthreadpool)\n",
      "[W pthreadpool-cpp.cc:90] Warning: Leaking Caffe2 thread-pool after fork. (function pthreadpool)\n",
      "[W pthreadpool-cpp.cc:90] Warning: Leaking Caffe2 thread-pool after fork. (function pthreadpool)\n",
      "[W pthreadpool-cpp.cc:90] Warning: Leaking Caffe2 thread-pool after fork. (function pthreadpool)\n",
      "[W pthreadpool-cpp.cc:90] Warning: Leaking Caffe2 thread-pool after fork. (function pthreadpool)\n",
      "[W pthreadpool-cpp.cc:90] Warning: Leaking Caffe2 thread-pool after fork. (function pthreadpool)\n"
     ]
    },
    {
     "name": "stdout",
     "output_type": "stream",
     "text": [
      "\u001b[J2           2284        0.001       0.331702    0.326532    0.526627    339.283       \n"
     ]
    },
    {
     "name": "stderr",
     "output_type": "stream",
     "text": [
      "[W pthreadpool-cpp.cc:90] Warning: Leaking Caffe2 thread-pool after fork. (function pthreadpool)\n",
      "[W pthreadpool-cpp.cc:90] Warning: Leaking Caffe2 thread-pool after fork. (function pthreadpool)\n",
      "[W pthreadpool-cpp.cc:90] Warning: Leaking Caffe2 thread-pool after fork. (function pthreadpool)\n",
      "[W pthreadpool-cpp.cc:90] Warning: Leaking Caffe2 thread-pool after fork. (function pthreadpool)\n",
      "[W pthreadpool-cpp.cc:90] Warning: Leaking Caffe2 thread-pool after fork. (function pthreadpool)\n",
      "[W pthreadpool-cpp.cc:90] Warning: Leaking Caffe2 thread-pool after fork. (function pthreadpool)\n",
      "[W pthreadpool-cpp.cc:90] Warning: Leaking Caffe2 thread-pool after fork. (function pthreadpool)\n",
      "[W pthreadpool-cpp.cc:90] Warning: Leaking Caffe2 thread-pool after fork. (function pthreadpool)\n"
     ]
    },
    {
     "name": "stdout",
     "output_type": "stream",
     "text": [
      "\u001b[J3           3426        0.000990453  0.318003    0.293708    0.641712    509.294       \n"
     ]
    },
    {
     "name": "stderr",
     "output_type": "stream",
     "text": [
      "[W pthreadpool-cpp.cc:90] Warning: Leaking Caffe2 thread-pool after fork. (function pthreadpool)\n",
      "[W pthreadpool-cpp.cc:90] Warning: Leaking Caffe2 thread-pool after fork. (function pthreadpool)\n",
      "[W pthreadpool-cpp.cc:90] Warning: Leaking Caffe2 thread-pool after fork. (function pthreadpool)\n",
      "[W pthreadpool-cpp.cc:90] Warning: Leaking Caffe2 thread-pool after fork. (function pthreadpool)\n",
      "[W pthreadpool-cpp.cc:90] Warning: Leaking Caffe2 thread-pool after fork. (function pthreadpool)\n",
      "[W pthreadpool-cpp.cc:90] Warning: Leaking Caffe2 thread-pool after fork. (function pthreadpool)\n",
      "[W pthreadpool-cpp.cc:90] Warning: Leaking Caffe2 thread-pool after fork. (function pthreadpool)\n",
      "[W pthreadpool-cpp.cc:90] Warning: Leaking Caffe2 thread-pool after fork. (function pthreadpool)\n"
     ]
    },
    {
     "name": "stdout",
     "output_type": "stream",
     "text": [
      "\u001b[J4           4568        0.000962255  0.307612    0.281231    0.712457    679.66        \n"
     ]
    },
    {
     "name": "stderr",
     "output_type": "stream",
     "text": [
      "[W pthreadpool-cpp.cc:90] Warning: Leaking Caffe2 thread-pool after fork. (function pthreadpool)\n",
      "[W pthreadpool-cpp.cc:90] Warning: Leaking Caffe2 thread-pool after fork. (function pthreadpool)\n",
      "[W pthreadpool-cpp.cc:90] Warning: Leaking Caffe2 thread-pool after fork. (function pthreadpool)\n",
      "[W pthreadpool-cpp.cc:90] Warning: Leaking Caffe2 thread-pool after fork. (function pthreadpool)\n",
      "[W pthreadpool-cpp.cc:90] Warning: Leaking Caffe2 thread-pool after fork. (function pthreadpool)\n",
      "[W pthreadpool-cpp.cc:90] Warning: Leaking Caffe2 thread-pool after fork. (function pthreadpool)\n",
      "[W pthreadpool-cpp.cc:90] Warning: Leaking Caffe2 thread-pool after fork. (function pthreadpool)\n",
      "[W pthreadpool-cpp.cc:90] Warning: Leaking Caffe2 thread-pool after fork. (function pthreadpool)\n"
     ]
    },
    {
     "name": "stdout",
     "output_type": "stream",
     "text": [
      "\u001b[J5           5710        0.00091649  0.302038    0.273027    0.736232    849.76        \n"
     ]
    },
    {
     "name": "stderr",
     "output_type": "stream",
     "text": [
      "[W pthreadpool-cpp.cc:90] Warning: Leaking Caffe2 thread-pool after fork. (function pthreadpool)\n",
      "[W pthreadpool-cpp.cc:90] Warning: Leaking Caffe2 thread-pool after fork. (function pthreadpool)\n",
      "[W pthreadpool-cpp.cc:90] Warning: Leaking Caffe2 thread-pool after fork. (function pthreadpool)\n",
      "[W pthreadpool-cpp.cc:90] Warning: Leaking Caffe2 thread-pool after fork. (function pthreadpool)\n",
      "[W pthreadpool-cpp.cc:90] Warning: Leaking Caffe2 thread-pool after fork. (function pthreadpool)\n",
      "[W pthreadpool-cpp.cc:90] Warning: Leaking Caffe2 thread-pool after fork. (function pthreadpool)\n",
      "[W pthreadpool-cpp.cc:90] Warning: Leaking Caffe2 thread-pool after fork. (function pthreadpool)\n",
      "[W pthreadpool-cpp.cc:90] Warning: Leaking Caffe2 thread-pool after fork. (function pthreadpool)\n"
     ]
    },
    {
     "name": "stdout",
     "output_type": "stream",
     "text": [
      "\u001b[J6           6852        0.000854915  0.298391    0.253117    0.751992    1019.8        \n"
     ]
    },
    {
     "name": "stderr",
     "output_type": "stream",
     "text": [
      "[W pthreadpool-cpp.cc:90] Warning: Leaking Caffe2 thread-pool after fork. (function pthreadpool)\n",
      "[W pthreadpool-cpp.cc:90] Warning: Leaking Caffe2 thread-pool after fork. (function pthreadpool)\n",
      "[W pthreadpool-cpp.cc:90] Warning: Leaking Caffe2 thread-pool after fork. (function pthreadpool)\n",
      "[W pthreadpool-cpp.cc:90] Warning: Leaking Caffe2 thread-pool after fork. (function pthreadpool)\n",
      "[W pthreadpool-cpp.cc:90] Warning: Leaking Caffe2 thread-pool after fork. (function pthreadpool)\n",
      "[W pthreadpool-cpp.cc:90] Warning: Leaking Caffe2 thread-pool after fork. (function pthreadpool)\n",
      "[W pthreadpool-cpp.cc:90] Warning: Leaking Caffe2 thread-pool after fork. (function pthreadpool)\n",
      "[W pthreadpool-cpp.cc:90] Warning: Leaking Caffe2 thread-pool after fork. (function pthreadpool)\n"
     ]
    },
    {
     "name": "stdout",
     "output_type": "stream",
     "text": [
      "\u001b[J7           7994        0.000779896  0.29455     0.256549    0.762573    1189.56       \n"
     ]
    },
    {
     "name": "stderr",
     "output_type": "stream",
     "text": [
      "[W pthreadpool-cpp.cc:90] Warning: Leaking Caffe2 thread-pool after fork. (function pthreadpool)\n",
      "[W pthreadpool-cpp.cc:90] Warning: Leaking Caffe2 thread-pool after fork. (function pthreadpool)\n",
      "[W pthreadpool-cpp.cc:90] Warning: Leaking Caffe2 thread-pool after fork. (function pthreadpool)\n",
      "[W pthreadpool-cpp.cc:90] Warning: Leaking Caffe2 thread-pool after fork. (function pthreadpool)\n",
      "[W pthreadpool-cpp.cc:90] Warning: Leaking Caffe2 thread-pool after fork. (function pthreadpool)\n",
      "[W pthreadpool-cpp.cc:90] Warning: Leaking Caffe2 thread-pool after fork. (function pthreadpool)\n",
      "[W pthreadpool-cpp.cc:90] Warning: Leaking Caffe2 thread-pool after fork. (function pthreadpool)\n",
      "[W pthreadpool-cpp.cc:90] Warning: Leaking Caffe2 thread-pool after fork. (function pthreadpool)\n"
     ]
    },
    {
     "name": "stdout",
     "output_type": "stream",
     "text": [
      "\u001b[J8           9136        0.000694316  0.292688    0.258398    0.758323    1359.69       \n"
     ]
    },
    {
     "name": "stderr",
     "output_type": "stream",
     "text": [
      "[W pthreadpool-cpp.cc:90] Warning: Leaking Caffe2 thread-pool after fork. (function pthreadpool)\n",
      "[W pthreadpool-cpp.cc:90] Warning: Leaking Caffe2 thread-pool after fork. (function pthreadpool)\n",
      "[W pthreadpool-cpp.cc:90] Warning: Leaking Caffe2 thread-pool after fork. (function pthreadpool)\n",
      "[W pthreadpool-cpp.cc:90] Warning: Leaking Caffe2 thread-pool after fork. (function pthreadpool)\n",
      "[W pthreadpool-cpp.cc:90] Warning: Leaking Caffe2 thread-pool after fork. (function pthreadpool)\n",
      "[W pthreadpool-cpp.cc:90] Warning: Leaking Caffe2 thread-pool after fork. (function pthreadpool)\n",
      "[W pthreadpool-cpp.cc:90] Warning: Leaking Caffe2 thread-pool after fork. (function pthreadpool)\n",
      "[W pthreadpool-cpp.cc:90] Warning: Leaking Caffe2 thread-pool after fork. (function pthreadpool)\n"
     ]
    },
    {
     "name": "stdout",
     "output_type": "stream",
     "text": [
      "\u001b[J9           10278       0.000601462  0.291333    0.241942    0.776753    1530.28       \n"
     ]
    },
    {
     "name": "stderr",
     "output_type": "stream",
     "text": [
      "[W pthreadpool-cpp.cc:90] Warning: Leaking Caffe2 thread-pool after fork. (function pthreadpool)\n",
      "[W pthreadpool-cpp.cc:90] Warning: Leaking Caffe2 thread-pool after fork. (function pthreadpool)\n",
      "[W pthreadpool-cpp.cc:90] Warning: Leaking Caffe2 thread-pool after fork. (function pthreadpool)\n",
      "[W pthreadpool-cpp.cc:90] Warning: Leaking Caffe2 thread-pool after fork. (function pthreadpool)\n",
      "[W pthreadpool-cpp.cc:90] Warning: Leaking Caffe2 thread-pool after fork. (function pthreadpool)\n",
      "[W pthreadpool-cpp.cc:90] Warning: Leaking Caffe2 thread-pool after fork. (function pthreadpool)\n",
      "[W pthreadpool-cpp.cc:90] Warning: Leaking Caffe2 thread-pool after fork. (function pthreadpool)\n",
      "[W pthreadpool-cpp.cc:90] Warning: Leaking Caffe2 thread-pool after fork. (function pthreadpool)\n"
     ]
    },
    {
     "name": "stdout",
     "output_type": "stream",
     "text": [
      "\u001b[J10          11420       0.000504903  0.289485    0.241475    0.77841     1700.94       \n"
     ]
    },
    {
     "name": "stderr",
     "output_type": "stream",
     "text": [
      "[W pthreadpool-cpp.cc:90] Warning: Leaking Caffe2 thread-pool after fork. (function pthreadpool)\n",
      "[W pthreadpool-cpp.cc:90] Warning: Leaking Caffe2 thread-pool after fork. (function pthreadpool)\n",
      "[W pthreadpool-cpp.cc:90] Warning: Leaking Caffe2 thread-pool after fork. (function pthreadpool)\n",
      "[W pthreadpool-cpp.cc:90] Warning: Leaking Caffe2 thread-pool after fork. (function pthreadpool)\n",
      "[W pthreadpool-cpp.cc:90] Warning: Leaking Caffe2 thread-pool after fork. (function pthreadpool)\n",
      "[W pthreadpool-cpp.cc:90] Warning: Leaking Caffe2 thread-pool after fork. (function pthreadpool)\n",
      "[W pthreadpool-cpp.cc:90] Warning: Leaking Caffe2 thread-pool after fork. (function pthreadpool)\n",
      "[W pthreadpool-cpp.cc:90] Warning: Leaking Caffe2 thread-pool after fork. (function pthreadpool)\n"
     ]
    },
    {
     "name": "stdout",
     "output_type": "stream",
     "text": [
      "\u001b[J11          12562       0.000408347  0.287559    0.241691    0.782118    1872.34       \n"
     ]
    },
    {
     "name": "stderr",
     "output_type": "stream",
     "text": [
      "[W pthreadpool-cpp.cc:90] Warning: Leaking Caffe2 thread-pool after fork. (function pthreadpool)\n",
      "[W pthreadpool-cpp.cc:90] Warning: Leaking Caffe2 thread-pool after fork. (function pthreadpool)\n",
      "[W pthreadpool-cpp.cc:90] Warning: Leaking Caffe2 thread-pool after fork. (function pthreadpool)\n",
      "[W pthreadpool-cpp.cc:90] Warning: Leaking Caffe2 thread-pool after fork. (function pthreadpool)\n",
      "[W pthreadpool-cpp.cc:90] Warning: Leaking Caffe2 thread-pool after fork. (function pthreadpool)\n",
      "[W pthreadpool-cpp.cc:90] Warning: Leaking Caffe2 thread-pool after fork. (function pthreadpool)\n",
      "[W pthreadpool-cpp.cc:90] Warning: Leaking Caffe2 thread-pool after fork. (function pthreadpool)\n",
      "[W pthreadpool-cpp.cc:90] Warning: Leaking Caffe2 thread-pool after fork. (function pthreadpool)\n"
     ]
    },
    {
     "name": "stdout",
     "output_type": "stream",
     "text": [
      "\u001b[J12          13704       0.000315504  0.285107    0.241483    0.7728      2044.59       \n"
     ]
    },
    {
     "name": "stderr",
     "output_type": "stream",
     "text": [
      "[W pthreadpool-cpp.cc:90] Warning: Leaking Caffe2 thread-pool after fork. (function pthreadpool)\n",
      "[W pthreadpool-cpp.cc:90] Warning: Leaking Caffe2 thread-pool after fork. (function pthreadpool)\n",
      "[W pthreadpool-cpp.cc:90] Warning: Leaking Caffe2 thread-pool after fork. (function pthreadpool)\n",
      "[W pthreadpool-cpp.cc:90] Warning: Leaking Caffe2 thread-pool after fork. (function pthreadpool)\n",
      "[W pthreadpool-cpp.cc:90] Warning: Leaking Caffe2 thread-pool after fork. (function pthreadpool)\n",
      "[W pthreadpool-cpp.cc:90] Warning: Leaking Caffe2 thread-pool after fork. (function pthreadpool)\n",
      "[W pthreadpool-cpp.cc:90] Warning: Leaking Caffe2 thread-pool after fork. (function pthreadpool)\n",
      "[W pthreadpool-cpp.cc:90] Warning: Leaking Caffe2 thread-pool after fork. (function pthreadpool)\n"
     ]
    },
    {
     "name": "stdout",
     "output_type": "stream",
     "text": [
      "\u001b[J13          14846       0.000229942  0.28505     0.235606    0.778644    2216.42       \n"
     ]
    },
    {
     "name": "stderr",
     "output_type": "stream",
     "text": [
      "[W pthreadpool-cpp.cc:90] Warning: Leaking Caffe2 thread-pool after fork. (function pthreadpool)\n",
      "[W pthreadpool-cpp.cc:90] Warning: Leaking Caffe2 thread-pool after fork. (function pthreadpool)\n",
      "[W pthreadpool-cpp.cc:90] Warning: Leaking Caffe2 thread-pool after fork. (function pthreadpool)\n",
      "[W pthreadpool-cpp.cc:90] Warning: Leaking Caffe2 thread-pool after fork. (function pthreadpool)\n",
      "[W pthreadpool-cpp.cc:90] Warning: Leaking Caffe2 thread-pool after fork. (function pthreadpool)\n",
      "[W pthreadpool-cpp.cc:90] Warning: Leaking Caffe2 thread-pool after fork. (function pthreadpool)\n",
      "[W pthreadpool-cpp.cc:90] Warning: Leaking Caffe2 thread-pool after fork. (function pthreadpool)\n",
      "[W pthreadpool-cpp.cc:90] Warning: Leaking Caffe2 thread-pool after fork. (function pthreadpool)\n"
     ]
    },
    {
     "name": "stdout",
     "output_type": "stream",
     "text": [
      "\u001b[J14          15988       0.000154948  0.282067    0.234605    0.782468    2388.21       \n"
     ]
    },
    {
     "name": "stderr",
     "output_type": "stream",
     "text": [
      "[W pthreadpool-cpp.cc:90] Warning: Leaking Caffe2 thread-pool after fork. (function pthreadpool)\n",
      "[W pthreadpool-cpp.cc:90] Warning: Leaking Caffe2 thread-pool after fork. (function pthreadpool)\n",
      "[W pthreadpool-cpp.cc:90] Warning: Leaking Caffe2 thread-pool after fork. (function pthreadpool)\n",
      "[W pthreadpool-cpp.cc:90] Warning: Leaking Caffe2 thread-pool after fork. (function pthreadpool)\n",
      "[W pthreadpool-cpp.cc:90] Warning: Leaking Caffe2 thread-pool after fork. (function pthreadpool)\n",
      "[W pthreadpool-cpp.cc:90] Warning: Leaking Caffe2 thread-pool after fork. (function pthreadpool)\n",
      "[W pthreadpool-cpp.cc:90] Warning: Leaking Caffe2 thread-pool after fork. (function pthreadpool)\n",
      "[W pthreadpool-cpp.cc:90] Warning: Leaking Caffe2 thread-pool after fork. (function pthreadpool)\n"
     ]
    },
    {
     "name": "stdout",
     "output_type": "stream",
     "text": [
      "\u001b[J15          17130       9.34023e-05  0.281992    0.235701    0.782443    2559.9        \n"
     ]
    },
    {
     "name": "stderr",
     "output_type": "stream",
     "text": [
      "[W pthreadpool-cpp.cc:90] Warning: Leaking Caffe2 thread-pool after fork. (function pthreadpool)\n",
      "[W pthreadpool-cpp.cc:90] Warning: Leaking Caffe2 thread-pool after fork. (function pthreadpool)\n",
      "[W pthreadpool-cpp.cc:90] Warning: Leaking Caffe2 thread-pool after fork. (function pthreadpool)\n",
      "[W pthreadpool-cpp.cc:90] Warning: Leaking Caffe2 thread-pool after fork. (function pthreadpool)\n",
      "[W pthreadpool-cpp.cc:90] Warning: Leaking Caffe2 thread-pool after fork. (function pthreadpool)\n",
      "[W pthreadpool-cpp.cc:90] Warning: Leaking Caffe2 thread-pool after fork. (function pthreadpool)\n",
      "[W pthreadpool-cpp.cc:90] Warning: Leaking Caffe2 thread-pool after fork. (function pthreadpool)\n",
      "[W pthreadpool-cpp.cc:90] Warning: Leaking Caffe2 thread-pool after fork. (function pthreadpool)\n"
     ]
    },
    {
     "name": "stdout",
     "output_type": "stream",
     "text": [
      "\u001b[J16          18272       4.76703e-05  0.279887    0.235623    0.783061    2732.13       \n"
     ]
    },
    {
     "name": "stderr",
     "output_type": "stream",
     "text": [
      "[W pthreadpool-cpp.cc:90] Warning: Leaking Caffe2 thread-pool after fork. (function pthreadpool)\n",
      "[W pthreadpool-cpp.cc:90] Warning: Leaking Caffe2 thread-pool after fork. (function pthreadpool)\n",
      "[W pthreadpool-cpp.cc:90] Warning: Leaking Caffe2 thread-pool after fork. (function pthreadpool)\n",
      "[W pthreadpool-cpp.cc:90] Warning: Leaking Caffe2 thread-pool after fork. (function pthreadpool)\n",
      "[W pthreadpool-cpp.cc:90] Warning: Leaking Caffe2 thread-pool after fork. (function pthreadpool)\n",
      "[W pthreadpool-cpp.cc:90] Warning: Leaking Caffe2 thread-pool after fork. (function pthreadpool)\n",
      "[W pthreadpool-cpp.cc:90] Warning: Leaking Caffe2 thread-pool after fork. (function pthreadpool)\n",
      "[W pthreadpool-cpp.cc:90] Warning: Leaking Caffe2 thread-pool after fork. (function pthreadpool)\n"
     ]
    },
    {
     "name": "stdout",
     "output_type": "stream",
     "text": [
      "\u001b[J17          19414       1.95089e-05  0.280017    0.232005    0.783728    2903.63       \n"
     ]
    },
    {
     "name": "stderr",
     "output_type": "stream",
     "text": [
      "[W pthreadpool-cpp.cc:90] Warning: Leaking Caffe2 thread-pool after fork. (function pthreadpool)\n",
      "[W pthreadpool-cpp.cc:90] Warning: Leaking Caffe2 thread-pool after fork. (function pthreadpool)\n",
      "[W pthreadpool-cpp.cc:90] Warning: Leaking Caffe2 thread-pool after fork. (function pthreadpool)\n",
      "[W pthreadpool-cpp.cc:90] Warning: Leaking Caffe2 thread-pool after fork. (function pthreadpool)\n",
      "[W pthreadpool-cpp.cc:90] Warning: Leaking Caffe2 thread-pool after fork. (function pthreadpool)\n",
      "[W pthreadpool-cpp.cc:90] Warning: Leaking Caffe2 thread-pool after fork. (function pthreadpool)\n",
      "[W pthreadpool-cpp.cc:90] Warning: Leaking Caffe2 thread-pool after fork. (function pthreadpool)\n",
      "[W pthreadpool-cpp.cc:90] Warning: Leaking Caffe2 thread-pool after fork. (function pthreadpool)\n"
     ]
    },
    {
     "name": "stdout",
     "output_type": "stream",
     "text": [
      "\u001b[J18          20556       1e-05       0.278821    0.235103    0.783257    3075.46       \n",
      "\n",
      "[fold 4]\n",
      "train: 48000, val: 12000\n",
      "load imagenet pretrained: True\n",
      "resnet18d: 512\n"
     ]
    },
    {
     "data": {
      "application/vnd.jupyter.widget-view+json": {
       "model_id": "58d4b248368f4dde9acdedc4df86c981",
       "version_major": 2,
       "version_minor": 0
      },
      "text/plain": [
       "VBox(children=(HBox(children=(FloatProgress(value=0.0, bar_style='info', description='total', max=1.0), HTML(v…"
      ]
     },
     "metadata": {},
     "output_type": "display_data"
    },
    {
     "name": "stderr",
     "output_type": "stream",
     "text": [
      "[W pthreadpool-cpp.cc:90] Warning: Leaking Caffe2 thread-pool after fork. (function pthreadpool)\n",
      "[W pthreadpool-cpp.cc:90] Warning: Leaking Caffe2 thread-pool after fork. (function pthreadpool)\n",
      "[W pthreadpool-cpp.cc:90] Warning: Leaking Caffe2 thread-pool after fork. (function pthreadpool)\n",
      "[W pthreadpool-cpp.cc:90] Warning: Leaking Caffe2 thread-pool after fork. (function pthreadpool)\n"
     ]
    },
    {
     "name": "stdout",
     "output_type": "stream",
     "text": [
      "epoch       iteration   lr          train/loss  val/loss    val/metric  elapsed_time\n"
     ]
    },
    {
     "name": "stderr",
     "output_type": "stream",
     "text": [
      "[W pthreadpool-cpp.cc:90] Warning: Leaking Caffe2 thread-pool after fork. (function pthreadpool)\n",
      "[W pthreadpool-cpp.cc:90] Warning: Leaking Caffe2 thread-pool after fork. (function pthreadpool)\n",
      "[W pthreadpool-cpp.cc:90] Warning: Leaking Caffe2 thread-pool after fork. (function pthreadpool)\n",
      "[W pthreadpool-cpp.cc:90] Warning: Leaking Caffe2 thread-pool after fork. (function pthreadpool)\n"
     ]
    },
    {
     "name": "stdout",
     "output_type": "stream",
     "text": [
      "\u001b[J1           1142        0.000505438  0.37303     0.342634    0.490737    170.576       \n"
     ]
    },
    {
     "name": "stderr",
     "output_type": "stream",
     "text": [
      "[W pthreadpool-cpp.cc:90] Warning: Leaking Caffe2 thread-pool after fork. (function pthreadpool)\n",
      "[W pthreadpool-cpp.cc:90] Warning: Leaking Caffe2 thread-pool after fork. (function pthreadpool)\n",
      "[W pthreadpool-cpp.cc:90] Warning: Leaking Caffe2 thread-pool after fork. (function pthreadpool)\n",
      "[W pthreadpool-cpp.cc:90] Warning: Leaking Caffe2 thread-pool after fork. (function pthreadpool)\n",
      "[W pthreadpool-cpp.cc:90] Warning: Leaking Caffe2 thread-pool after fork. (function pthreadpool)\n",
      "[W pthreadpool-cpp.cc:90] Warning: Leaking Caffe2 thread-pool after fork. (function pthreadpool)\n",
      "[W pthreadpool-cpp.cc:90] Warning: Leaking Caffe2 thread-pool after fork. (function pthreadpool)\n",
      "[W pthreadpool-cpp.cc:90] Warning: Leaking Caffe2 thread-pool after fork. (function pthreadpool)\n",
      "[W pthreadpool-cpp.cc:90] Warning: Leaking Caffe2 thread-pool after fork. (function pthreadpool)\n"
     ]
    },
    {
     "name": "stdout",
     "output_type": "stream",
     "text": [
      "\u001b[J2           2284        0.001       0.328998    0.309096    0.624597    342.16        \n"
     ]
    },
    {
     "name": "stderr",
     "output_type": "stream",
     "text": [
      "[W pthreadpool-cpp.cc:90] Warning: Leaking Caffe2 thread-pool after fork. (function pthreadpool)\n",
      "[W pthreadpool-cpp.cc:90] Warning: Leaking Caffe2 thread-pool after fork. (function pthreadpool)\n",
      "[W pthreadpool-cpp.cc:90] Warning: Leaking Caffe2 thread-pool after fork. (function pthreadpool)\n",
      "[W pthreadpool-cpp.cc:90] Warning: Leaking Caffe2 thread-pool after fork. (function pthreadpool)\n",
      "[W pthreadpool-cpp.cc:90] Warning: Leaking Caffe2 thread-pool after fork. (function pthreadpool)\n",
      "[W pthreadpool-cpp.cc:90] Warning: Leaking Caffe2 thread-pool after fork. (function pthreadpool)\n",
      "[W pthreadpool-cpp.cc:90] Warning: Leaking Caffe2 thread-pool after fork. (function pthreadpool)\n",
      "[W pthreadpool-cpp.cc:90] Warning: Leaking Caffe2 thread-pool after fork. (function pthreadpool)\n"
     ]
    },
    {
     "name": "stdout",
     "output_type": "stream",
     "text": [
      "\u001b[J3           3426        0.000990453  0.311672    0.281296    0.699003    513.865       \n"
     ]
    },
    {
     "name": "stderr",
     "output_type": "stream",
     "text": [
      "[W pthreadpool-cpp.cc:90] Warning: Leaking Caffe2 thread-pool after fork. (function pthreadpool)\n",
      "[W pthreadpool-cpp.cc:90] Warning: Leaking Caffe2 thread-pool after fork. (function pthreadpool)\n",
      "[W pthreadpool-cpp.cc:90] Warning: Leaking Caffe2 thread-pool after fork. (function pthreadpool)\n",
      "[W pthreadpool-cpp.cc:90] Warning: Leaking Caffe2 thread-pool after fork. (function pthreadpool)\n",
      "[W pthreadpool-cpp.cc:90] Warning: Leaking Caffe2 thread-pool after fork. (function pthreadpool)\n",
      "[W pthreadpool-cpp.cc:90] Warning: Leaking Caffe2 thread-pool after fork. (function pthreadpool)\n",
      "[W pthreadpool-cpp.cc:90] Warning: Leaking Caffe2 thread-pool after fork. (function pthreadpool)\n",
      "[W pthreadpool-cpp.cc:90] Warning: Leaking Caffe2 thread-pool after fork. (function pthreadpool)\n"
     ]
    },
    {
     "name": "stdout",
     "output_type": "stream",
     "text": [
      "\u001b[J4           4568        0.000962255  0.305277    0.271844    0.724779    685.662       \n"
     ]
    },
    {
     "name": "stderr",
     "output_type": "stream",
     "text": [
      "[W pthreadpool-cpp.cc:90] Warning: Leaking Caffe2 thread-pool after fork. (function pthreadpool)\n",
      "[W pthreadpool-cpp.cc:90] Warning: Leaking Caffe2 thread-pool after fork. (function pthreadpool)\n",
      "[W pthreadpool-cpp.cc:90] Warning: Leaking Caffe2 thread-pool after fork. (function pthreadpool)\n",
      "[W pthreadpool-cpp.cc:90] Warning: Leaking Caffe2 thread-pool after fork. (function pthreadpool)\n",
      "[W pthreadpool-cpp.cc:90] Warning: Leaking Caffe2 thread-pool after fork. (function pthreadpool)\n",
      "[W pthreadpool-cpp.cc:90] Warning: Leaking Caffe2 thread-pool after fork. (function pthreadpool)\n",
      "[W pthreadpool-cpp.cc:90] Warning: Leaking Caffe2 thread-pool after fork. (function pthreadpool)\n",
      "[W pthreadpool-cpp.cc:90] Warning: Leaking Caffe2 thread-pool after fork. (function pthreadpool)\n"
     ]
    },
    {
     "name": "stdout",
     "output_type": "stream",
     "text": [
      "\u001b[J5           5710        0.00091649  0.301223    0.273157    0.718618    857.272       \n"
     ]
    },
    {
     "name": "stderr",
     "output_type": "stream",
     "text": [
      "[W pthreadpool-cpp.cc:90] Warning: Leaking Caffe2 thread-pool after fork. (function pthreadpool)\n",
      "[W pthreadpool-cpp.cc:90] Warning: Leaking Caffe2 thread-pool after fork. (function pthreadpool)\n",
      "[W pthreadpool-cpp.cc:90] Warning: Leaking Caffe2 thread-pool after fork. (function pthreadpool)\n",
      "[W pthreadpool-cpp.cc:90] Warning: Leaking Caffe2 thread-pool after fork. (function pthreadpool)\n",
      "[W pthreadpool-cpp.cc:90] Warning: Leaking Caffe2 thread-pool after fork. (function pthreadpool)\n",
      "[W pthreadpool-cpp.cc:90] Warning: Leaking Caffe2 thread-pool after fork. (function pthreadpool)\n",
      "[W pthreadpool-cpp.cc:90] Warning: Leaking Caffe2 thread-pool after fork. (function pthreadpool)\n",
      "[W pthreadpool-cpp.cc:90] Warning: Leaking Caffe2 thread-pool after fork. (function pthreadpool)\n"
     ]
    },
    {
     "name": "stdout",
     "output_type": "stream",
     "text": [
      "\u001b[J6           6852        0.000854915  0.296893    0.255064    0.748527    1028.78       \n"
     ]
    },
    {
     "name": "stderr",
     "output_type": "stream",
     "text": [
      "[W pthreadpool-cpp.cc:90] Warning: Leaking Caffe2 thread-pool after fork. (function pthreadpool)\n",
      "[W pthreadpool-cpp.cc:90] Warning: Leaking Caffe2 thread-pool after fork. (function pthreadpool)\n",
      "[W pthreadpool-cpp.cc:90] Warning: Leaking Caffe2 thread-pool after fork. (function pthreadpool)\n",
      "[W pthreadpool-cpp.cc:90] Warning: Leaking Caffe2 thread-pool after fork. (function pthreadpool)\n",
      "[W pthreadpool-cpp.cc:90] Warning: Leaking Caffe2 thread-pool after fork. (function pthreadpool)\n",
      "[W pthreadpool-cpp.cc:90] Warning: Leaking Caffe2 thread-pool after fork. (function pthreadpool)\n",
      "[W pthreadpool-cpp.cc:90] Warning: Leaking Caffe2 thread-pool after fork. (function pthreadpool)\n",
      "[W pthreadpool-cpp.cc:90] Warning: Leaking Caffe2 thread-pool after fork. (function pthreadpool)\n"
     ]
    },
    {
     "name": "stdout",
     "output_type": "stream",
     "text": [
      "\u001b[J7           7994        0.000779896  0.294583    0.257702    0.761021    1200.42       \n"
     ]
    },
    {
     "name": "stderr",
     "output_type": "stream",
     "text": [
      "[W pthreadpool-cpp.cc:90] Warning: Leaking Caffe2 thread-pool after fork. (function pthreadpool)\n",
      "[W pthreadpool-cpp.cc:90] Warning: Leaking Caffe2 thread-pool after fork. (function pthreadpool)\n",
      "[W pthreadpool-cpp.cc:90] Warning: Leaking Caffe2 thread-pool after fork. (function pthreadpool)\n",
      "[W pthreadpool-cpp.cc:90] Warning: Leaking Caffe2 thread-pool after fork. (function pthreadpool)\n",
      "[W pthreadpool-cpp.cc:90] Warning: Leaking Caffe2 thread-pool after fork. (function pthreadpool)\n",
      "[W pthreadpool-cpp.cc:90] Warning: Leaking Caffe2 thread-pool after fork. (function pthreadpool)\n",
      "[W pthreadpool-cpp.cc:90] Warning: Leaking Caffe2 thread-pool after fork. (function pthreadpool)\n",
      "[W pthreadpool-cpp.cc:90] Warning: Leaking Caffe2 thread-pool after fork. (function pthreadpool)\n"
     ]
    },
    {
     "name": "stdout",
     "output_type": "stream",
     "text": [
      "\u001b[J8           9136        0.000694316  0.291436    0.250759    0.759855    1371.91       \n"
     ]
    },
    {
     "name": "stderr",
     "output_type": "stream",
     "text": [
      "[W pthreadpool-cpp.cc:90] Warning: Leaking Caffe2 thread-pool after fork. (function pthreadpool)\n",
      "[W pthreadpool-cpp.cc:90] Warning: Leaking Caffe2 thread-pool after fork. (function pthreadpool)\n",
      "[W pthreadpool-cpp.cc:90] Warning: Leaking Caffe2 thread-pool after fork. (function pthreadpool)\n",
      "[W pthreadpool-cpp.cc:90] Warning: Leaking Caffe2 thread-pool after fork. (function pthreadpool)\n",
      "[W pthreadpool-cpp.cc:90] Warning: Leaking Caffe2 thread-pool after fork. (function pthreadpool)\n",
      "[W pthreadpool-cpp.cc:90] Warning: Leaking Caffe2 thread-pool after fork. (function pthreadpool)\n",
      "[W pthreadpool-cpp.cc:90] Warning: Leaking Caffe2 thread-pool after fork. (function pthreadpool)\n",
      "[W pthreadpool-cpp.cc:90] Warning: Leaking Caffe2 thread-pool after fork. (function pthreadpool)\n"
     ]
    },
    {
     "name": "stdout",
     "output_type": "stream",
     "text": [
      "\u001b[J9           10278       0.000601462  0.290415    0.247765    0.750428    1543.43       \n"
     ]
    },
    {
     "name": "stderr",
     "output_type": "stream",
     "text": [
      "[W pthreadpool-cpp.cc:90] Warning: Leaking Caffe2 thread-pool after fork. (function pthreadpool)\n",
      "[W pthreadpool-cpp.cc:90] Warning: Leaking Caffe2 thread-pool after fork. (function pthreadpool)\n",
      "[W pthreadpool-cpp.cc:90] Warning: Leaking Caffe2 thread-pool after fork. (function pthreadpool)\n",
      "[W pthreadpool-cpp.cc:90] Warning: Leaking Caffe2 thread-pool after fork. (function pthreadpool)\n",
      "[W pthreadpool-cpp.cc:90] Warning: Leaking Caffe2 thread-pool after fork. (function pthreadpool)\n",
      "[W pthreadpool-cpp.cc:90] Warning: Leaking Caffe2 thread-pool after fork. (function pthreadpool)\n",
      "[W pthreadpool-cpp.cc:90] Warning: Leaking Caffe2 thread-pool after fork. (function pthreadpool)\n",
      "[W pthreadpool-cpp.cc:90] Warning: Leaking Caffe2 thread-pool after fork. (function pthreadpool)\n"
     ]
    },
    {
     "name": "stdout",
     "output_type": "stream",
     "text": [
      "\u001b[J10          11420       0.000504903  0.288325    0.247212    0.769344    1714.8        \n"
     ]
    },
    {
     "name": "stderr",
     "output_type": "stream",
     "text": [
      "[W pthreadpool-cpp.cc:90] Warning: Leaking Caffe2 thread-pool after fork. (function pthreadpool)\n",
      "[W pthreadpool-cpp.cc:90] Warning: Leaking Caffe2 thread-pool after fork. (function pthreadpool)\n",
      "[W pthreadpool-cpp.cc:90] Warning: Leaking Caffe2 thread-pool after fork. (function pthreadpool)\n",
      "[W pthreadpool-cpp.cc:90] Warning: Leaking Caffe2 thread-pool after fork. (function pthreadpool)\n",
      "[W pthreadpool-cpp.cc:90] Warning: Leaking Caffe2 thread-pool after fork. (function pthreadpool)\n",
      "[W pthreadpool-cpp.cc:90] Warning: Leaking Caffe2 thread-pool after fork. (function pthreadpool)\n",
      "[W pthreadpool-cpp.cc:90] Warning: Leaking Caffe2 thread-pool after fork. (function pthreadpool)\n",
      "[W pthreadpool-cpp.cc:90] Warning: Leaking Caffe2 thread-pool after fork. (function pthreadpool)\n"
     ]
    },
    {
     "name": "stdout",
     "output_type": "stream",
     "text": [
      "\u001b[J11          12562       0.000408347  0.285489    0.245979    0.775067    1886.42       \n"
     ]
    },
    {
     "name": "stderr",
     "output_type": "stream",
     "text": [
      "[W pthreadpool-cpp.cc:90] Warning: Leaking Caffe2 thread-pool after fork. (function pthreadpool)\n",
      "[W pthreadpool-cpp.cc:90] Warning: Leaking Caffe2 thread-pool after fork. (function pthreadpool)\n",
      "[W pthreadpool-cpp.cc:90] Warning: Leaking Caffe2 thread-pool after fork. (function pthreadpool)\n",
      "[W pthreadpool-cpp.cc:90] Warning: Leaking Caffe2 thread-pool after fork. (function pthreadpool)\n",
      "[W pthreadpool-cpp.cc:90] Warning: Leaking Caffe2 thread-pool after fork. (function pthreadpool)\n",
      "[W pthreadpool-cpp.cc:90] Warning: Leaking Caffe2 thread-pool after fork. (function pthreadpool)\n",
      "[W pthreadpool-cpp.cc:90] Warning: Leaking Caffe2 thread-pool after fork. (function pthreadpool)\n",
      "[W pthreadpool-cpp.cc:90] Warning: Leaking Caffe2 thread-pool after fork. (function pthreadpool)\n"
     ]
    },
    {
     "name": "stdout",
     "output_type": "stream",
     "text": [
      "\u001b[J12          13704       0.000315504  0.283853    0.244286    0.778648    2057.87       \n"
     ]
    },
    {
     "name": "stderr",
     "output_type": "stream",
     "text": [
      "[W pthreadpool-cpp.cc:90] Warning: Leaking Caffe2 thread-pool after fork. (function pthreadpool)\n",
      "[W pthreadpool-cpp.cc:90] Warning: Leaking Caffe2 thread-pool after fork. (function pthreadpool)\n",
      "[W pthreadpool-cpp.cc:90] Warning: Leaking Caffe2 thread-pool after fork. (function pthreadpool)\n",
      "[W pthreadpool-cpp.cc:90] Warning: Leaking Caffe2 thread-pool after fork. (function pthreadpool)\n",
      "[W pthreadpool-cpp.cc:90] Warning: Leaking Caffe2 thread-pool after fork. (function pthreadpool)\n",
      "[W pthreadpool-cpp.cc:90] Warning: Leaking Caffe2 thread-pool after fork. (function pthreadpool)\n",
      "[W pthreadpool-cpp.cc:90] Warning: Leaking Caffe2 thread-pool after fork. (function pthreadpool)\n",
      "[W pthreadpool-cpp.cc:90] Warning: Leaking Caffe2 thread-pool after fork. (function pthreadpool)\n"
     ]
    },
    {
     "name": "stdout",
     "output_type": "stream",
     "text": [
      "\u001b[J13          14846       0.000229942  0.283337    0.245002    0.782997    2229.52       \n"
     ]
    },
    {
     "name": "stderr",
     "output_type": "stream",
     "text": [
      "[W pthreadpool-cpp.cc:90] Warning: Leaking Caffe2 thread-pool after fork. (function pthreadpool)\n",
      "[W pthreadpool-cpp.cc:90] Warning: Leaking Caffe2 thread-pool after fork. (function pthreadpool)\n",
      "[W pthreadpool-cpp.cc:90] Warning: Leaking Caffe2 thread-pool after fork. (function pthreadpool)\n",
      "[W pthreadpool-cpp.cc:90] Warning: Leaking Caffe2 thread-pool after fork. (function pthreadpool)\n",
      "[W pthreadpool-cpp.cc:90] Warning: Leaking Caffe2 thread-pool after fork. (function pthreadpool)\n",
      "[W pthreadpool-cpp.cc:90] Warning: Leaking Caffe2 thread-pool after fork. (function pthreadpool)\n",
      "[W pthreadpool-cpp.cc:90] Warning: Leaking Caffe2 thread-pool after fork. (function pthreadpool)\n",
      "[W pthreadpool-cpp.cc:90] Warning: Leaking Caffe2 thread-pool after fork. (function pthreadpool)\n"
     ]
    },
    {
     "name": "stdout",
     "output_type": "stream",
     "text": [
      "\u001b[J14          15988       0.000154948  0.281318    0.235401    0.794011    2401.47       \n"
     ]
    },
    {
     "name": "stderr",
     "output_type": "stream",
     "text": [
      "[W pthreadpool-cpp.cc:90] Warning: Leaking Caffe2 thread-pool after fork. (function pthreadpool)\n",
      "[W pthreadpool-cpp.cc:90] Warning: Leaking Caffe2 thread-pool after fork. (function pthreadpool)\n",
      "[W pthreadpool-cpp.cc:90] Warning: Leaking Caffe2 thread-pool after fork. (function pthreadpool)\n",
      "[W pthreadpool-cpp.cc:90] Warning: Leaking Caffe2 thread-pool after fork. (function pthreadpool)\n",
      "[W pthreadpool-cpp.cc:90] Warning: Leaking Caffe2 thread-pool after fork. (function pthreadpool)\n",
      "[W pthreadpool-cpp.cc:90] Warning: Leaking Caffe2 thread-pool after fork. (function pthreadpool)\n",
      "[W pthreadpool-cpp.cc:90] Warning: Leaking Caffe2 thread-pool after fork. (function pthreadpool)\n",
      "[W pthreadpool-cpp.cc:90] Warning: Leaking Caffe2 thread-pool after fork. (function pthreadpool)\n"
     ]
    },
    {
     "name": "stdout",
     "output_type": "stream",
     "text": [
      "\u001b[J15          17130       9.34023e-05  0.279119    0.235195    0.793007    2573.49       \n"
     ]
    },
    {
     "name": "stderr",
     "output_type": "stream",
     "text": [
      "[W pthreadpool-cpp.cc:90] Warning: Leaking Caffe2 thread-pool after fork. (function pthreadpool)\n",
      "[W pthreadpool-cpp.cc:90] Warning: Leaking Caffe2 thread-pool after fork. (function pthreadpool)\n",
      "[W pthreadpool-cpp.cc:90] Warning: Leaking Caffe2 thread-pool after fork. (function pthreadpool)\n",
      "[W pthreadpool-cpp.cc:90] Warning: Leaking Caffe2 thread-pool after fork. (function pthreadpool)\n",
      "[W pthreadpool-cpp.cc:90] Warning: Leaking Caffe2 thread-pool after fork. (function pthreadpool)\n",
      "[W pthreadpool-cpp.cc:90] Warning: Leaking Caffe2 thread-pool after fork. (function pthreadpool)\n",
      "[W pthreadpool-cpp.cc:90] Warning: Leaking Caffe2 thread-pool after fork. (function pthreadpool)\n",
      "[W pthreadpool-cpp.cc:90] Warning: Leaking Caffe2 thread-pool after fork. (function pthreadpool)\n",
      "[W pthreadpool-cpp.cc:90] Warning: Leaking Caffe2 thread-pool after fork. (function pthreadpool)\n"
     ]
    },
    {
     "name": "stdout",
     "output_type": "stream",
     "text": [
      "\u001b[J16          18272       4.76703e-05  0.277954    0.232526    0.793144    2745.22       \n"
     ]
    },
    {
     "name": "stderr",
     "output_type": "stream",
     "text": [
      "[W pthreadpool-cpp.cc:90] Warning: Leaking Caffe2 thread-pool after fork. (function pthreadpool)\n",
      "[W pthreadpool-cpp.cc:90] Warning: Leaking Caffe2 thread-pool after fork. (function pthreadpool)\n",
      "[W pthreadpool-cpp.cc:90] Warning: Leaking Caffe2 thread-pool after fork. (function pthreadpool)\n",
      "[W pthreadpool-cpp.cc:90] Warning: Leaking Caffe2 thread-pool after fork. (function pthreadpool)\n",
      "[W pthreadpool-cpp.cc:90] Warning: Leaking Caffe2 thread-pool after fork. (function pthreadpool)\n",
      "[W pthreadpool-cpp.cc:90] Warning: Leaking Caffe2 thread-pool after fork. (function pthreadpool)\n",
      "[W pthreadpool-cpp.cc:90] Warning: Leaking Caffe2 thread-pool after fork. (function pthreadpool)\n",
      "[W pthreadpool-cpp.cc:90] Warning: Leaking Caffe2 thread-pool after fork. (function pthreadpool)\n"
     ]
    },
    {
     "name": "stdout",
     "output_type": "stream",
     "text": [
      "\u001b[J17          19414       1.95089e-05  0.277094    0.23421     0.79524     2917.02       \n"
     ]
    },
    {
     "name": "stderr",
     "output_type": "stream",
     "text": [
      "[W pthreadpool-cpp.cc:90] Warning: Leaking Caffe2 thread-pool after fork. (function pthreadpool)\n",
      "[W pthreadpool-cpp.cc:90] Warning: Leaking Caffe2 thread-pool after fork. (function pthreadpool)\n",
      "[W pthreadpool-cpp.cc:90] Warning: Leaking Caffe2 thread-pool after fork. (function pthreadpool)\n",
      "[W pthreadpool-cpp.cc:90] Warning: Leaking Caffe2 thread-pool after fork. (function pthreadpool)\n",
      "[W pthreadpool-cpp.cc:90] Warning: Leaking Caffe2 thread-pool after fork. (function pthreadpool)\n",
      "[W pthreadpool-cpp.cc:90] Warning: Leaking Caffe2 thread-pool after fork. (function pthreadpool)\n",
      "[W pthreadpool-cpp.cc:90] Warning: Leaking Caffe2 thread-pool after fork. (function pthreadpool)\n",
      "[W pthreadpool-cpp.cc:90] Warning: Leaking Caffe2 thread-pool after fork. (function pthreadpool)\n"
     ]
    },
    {
     "name": "stdout",
     "output_type": "stream",
     "text": [
      "\u001b[J18          20556       1e-05       0.277316    0.235636    0.795013    3089.32       \n"
     ]
    }
   ],
   "source": [
    "for i, pre_eval_cfg in enumerate(pre_eval_cfg_list):\n",
    "    cfg = Config(pre_eval_cfg, types=CONFIG_TYPES)\n",
    "    print(f\"\\n[fold {cfg['/globals/val_fold']}]\")\n",
    "    train_one_fold(cfg, train)\n",
    "    with torch.cuda.device(cfg[\"/globals/device\"]):\n",
    "        torch.cuda.empty_cache()\n",
    "    del cfg\n",
    "    gc.collect()"
   ]
  },
  {
   "cell_type": "markdown",
   "id": "material-capitol",
   "metadata": {
    "papermill": {
     "duration": null,
     "end_time": null,
     "exception": null,
     "start_time": null,
     "status": "pending"
    },
    "tags": []
   },
   "source": [
    "# Inference"
   ]
  },
  {
   "cell_type": "markdown",
   "id": "prescribed-portland",
   "metadata": {
    "papermill": {
     "duration": null,
     "end_time": null,
     "exception": null,
     "start_time": null,
     "status": "pending"
    },
    "tags": []
   },
   "source": [
    "## Copy best models"
   ]
  },
  {
   "cell_type": "code",
   "execution_count": 17,
   "id": "above-tsunami",
   "metadata": {
    "papermill": {
     "duration": null,
     "end_time": null,
     "exception": null,
     "start_time": null,
     "status": "pending"
    },
    "tags": []
   },
   "outputs": [
    {
     "data": {
      "text/html": [
       "<div>\n",
       "<style scoped>\n",
       "    .dataframe tbody tr th:only-of-type {\n",
       "        vertical-align: middle;\n",
       "    }\n",
       "\n",
       "    .dataframe tbody tr th {\n",
       "        vertical-align: top;\n",
       "    }\n",
       "\n",
       "    .dataframe thead th {\n",
       "        text-align: right;\n",
       "    }\n",
       "</style>\n",
       "<table border=\"1\" class=\"dataframe\">\n",
       "  <thead>\n",
       "    <tr style=\"text-align: right;\">\n",
       "      <th></th>\n",
       "      <th>train/loss</th>\n",
       "      <th>lr</th>\n",
       "      <th>val/loss</th>\n",
       "      <th>val/metric</th>\n",
       "      <th>epoch</th>\n",
       "      <th>iteration</th>\n",
       "      <th>elapsed_time</th>\n",
       "    </tr>\n",
       "  </thead>\n",
       "  <tbody>\n",
       "    <tr>\n",
       "      <th>0</th>\n",
       "      <td>0.278571</td>\n",
       "      <td>0.00001</td>\n",
       "      <td>0.232355</td>\n",
       "      <td>0.792234</td>\n",
       "      <td>18</td>\n",
       "      <td>20556</td>\n",
       "      <td>3592.514617</td>\n",
       "    </tr>\n",
       "    <tr>\n",
       "      <th>1</th>\n",
       "      <td>0.279438</td>\n",
       "      <td>0.00002</td>\n",
       "      <td>0.242156</td>\n",
       "      <td>0.765454</td>\n",
       "      <td>17</td>\n",
       "      <td>19414</td>\n",
       "      <td>3288.475115</td>\n",
       "    </tr>\n",
       "    <tr>\n",
       "      <th>2</th>\n",
       "      <td>0.280977</td>\n",
       "      <td>0.00002</td>\n",
       "      <td>0.237717</td>\n",
       "      <td>0.773716</td>\n",
       "      <td>17</td>\n",
       "      <td>19414</td>\n",
       "      <td>2899.589258</td>\n",
       "    </tr>\n",
       "    <tr>\n",
       "      <th>3</th>\n",
       "      <td>0.280017</td>\n",
       "      <td>0.00002</td>\n",
       "      <td>0.232005</td>\n",
       "      <td>0.783728</td>\n",
       "      <td>17</td>\n",
       "      <td>19414</td>\n",
       "      <td>2903.634637</td>\n",
       "    </tr>\n",
       "    <tr>\n",
       "      <th>4</th>\n",
       "      <td>0.277094</td>\n",
       "      <td>0.00002</td>\n",
       "      <td>0.234210</td>\n",
       "      <td>0.795240</td>\n",
       "      <td>17</td>\n",
       "      <td>19414</td>\n",
       "      <td>2917.016677</td>\n",
       "    </tr>\n",
       "  </tbody>\n",
       "</table>\n",
       "</div>"
      ],
      "text/plain": [
       "   train/loss       lr  val/loss  val/metric  epoch  iteration  elapsed_time\n",
       "0    0.278571  0.00001  0.232355    0.792234     18      20556   3592.514617\n",
       "1    0.279438  0.00002  0.242156    0.765454     17      19414   3288.475115\n",
       "2    0.280977  0.00002  0.237717    0.773716     17      19414   2899.589258\n",
       "3    0.280017  0.00002  0.232005    0.783728     17      19414   2903.634637\n",
       "4    0.277094  0.00002  0.234210    0.795240     17      19414   2917.016677"
      ]
     },
     "execution_count": 17,
     "metadata": {},
     "output_type": "execute_result"
    }
   ],
   "source": [
    "best_log_list = []\n",
    "for pre_eval_cfg, fold_id in zip(pre_eval_cfg_list, FOLDS):\n",
    "    exp_dir_path = TMP / f\"fold{fold_id}\"\n",
    "    log = pd.read_json(exp_dir_path / \"log\")\n",
    "    best_log = log.iloc[[log[\"val/metric\"].idxmax()],]\n",
    "    best_epoch = best_log.epoch.values[0]\n",
    "    best_log_list.append(best_log)\n",
    "    \n",
    "    best_model_path = exp_dir_path / f\"snapshot_by_metric_epoch_{best_epoch}.pth\"\n",
    "    copy_to = OUTPUT / f\"best_metric_model_fold{fold_id}.pth\"\n",
    "    shutil.copy(best_model_path, copy_to)\n",
    "    \n",
    "    for p in exp_dir_path.glob(\"*.pth\"):\n",
    "        p.unlink()\n",
    "    \n",
    "    shutil.copytree(exp_dir_path, f\"./fold{fold_id}\")\n",
    "    \n",
    "    with open(f\"./fold{fold_id}/config.yml\", \"w\") as fw:\n",
    "        yaml.dump(pre_eval_cfg, fw)\n",
    "    \n",
    "pd.concat(best_log_list, axis=0, ignore_index=True)"
   ]
  },
  {
   "cell_type": "markdown",
   "id": "premium-insured",
   "metadata": {
    "papermill": {
     "duration": null,
     "end_time": null,
     "exception": null,
     "start_time": null,
     "status": "pending"
    },
    "tags": []
   },
   "source": [
    "## Inference OOF & Test"
   ]
  },
  {
   "cell_type": "code",
   "execution_count": 18,
   "id": "theoretical-birth",
   "metadata": {
    "_kg_hide-input": true,
    "papermill": {
     "duration": null,
     "end_time": null,
     "exception": null,
     "start_time": null,
     "status": "pending"
    },
    "tags": []
   },
   "outputs": [],
   "source": [
    "def run_inference_loop(cfg, model, loader, device):\n",
    "    model.to(device)\n",
    "    model.eval()\n",
    "    pred_list = []\n",
    "    with torch.no_grad():\n",
    "        for batch in tqdm(loader):\n",
    "            x = to_device(batch[\"image\"], device)\n",
    "            y = model(x)\n",
    "            pred_list.append(y.sigmoid().detach().cpu().numpy())\n",
    "        \n",
    "    pred_arr = np.concatenate(pred_list)\n",
    "    del pred_list\n",
    "    return pred_arr"
   ]
  },
  {
   "cell_type": "code",
   "execution_count": 19,
   "id": "spatial-space",
   "metadata": {
    "papermill": {
     "duration": null,
     "end_time": null,
     "exception": null,
     "start_time": null,
     "status": "pending"
    },
    "tags": []
   },
   "outputs": [
    {
     "name": "stdout",
     "output_type": "stream",
     "text": [
      "\n",
      "[fold 0]\n",
      "load imagenet pretrained: True\n",
      "resnet18d: 512\n"
     ]
    },
    {
     "data": {
      "application/vnd.jupyter.widget-view+json": {
       "model_id": "6c17c74bae2f481786cd591e9873e7e1",
       "version_major": 2,
       "version_minor": 0
      },
      "text/plain": [
       "  0%|          | 0/286 [00:00<?, ?it/s]"
      ]
     },
     "metadata": {},
     "output_type": "display_data"
    },
    {
     "name": "stderr",
     "output_type": "stream",
     "text": [
      "[W pthreadpool-cpp.cc:90] Warning: Leaking Caffe2 thread-pool after fork. (function pthreadpool)\n",
      "[W pthreadpool-cpp.cc:90] Warning: Leaking Caffe2 thread-pool after fork. (function pthreadpool)\n",
      "[W pthreadpool-cpp.cc:90] Warning: Leaking Caffe2 thread-pool after fork. (function pthreadpool)\n",
      "[W pthreadpool-cpp.cc:90] Warning: Leaking Caffe2 thread-pool after fork. (function pthreadpool)\n"
     ]
    },
    {
     "data": {
      "application/vnd.jupyter.widget-view+json": {
       "model_id": "e052b2d14c6e4aeaa40b184fef9bd868",
       "version_major": 2,
       "version_minor": 0
      },
      "text/plain": [
       "  0%|          | 0/953 [00:00<?, ?it/s]"
      ]
     },
     "metadata": {},
     "output_type": "display_data"
    },
    {
     "name": "stderr",
     "output_type": "stream",
     "text": [
      "[W pthreadpool-cpp.cc:90] Warning: Leaking Caffe2 thread-pool after fork. (function pthreadpool)\n",
      "[W pthreadpool-cpp.cc:90] Warning: Leaking Caffe2 thread-pool after fork. (function pthreadpool)\n",
      "[W pthreadpool-cpp.cc:90] Warning: Leaking Caffe2 thread-pool after fork. (function pthreadpool)\n",
      "[W pthreadpool-cpp.cc:90] Warning: Leaking Caffe2 thread-pool after fork. (function pthreadpool)\n"
     ]
    },
    {
     "name": "stdout",
     "output_type": "stream",
     "text": [
      "val score: 0.7922\n",
      "\n",
      "[fold 1]\n",
      "load imagenet pretrained: True\n",
      "resnet18d: 512\n"
     ]
    },
    {
     "data": {
      "application/vnd.jupyter.widget-view+json": {
       "model_id": "d0bf1ca3f9a1487e8a02bbe4f20444e2",
       "version_major": 2,
       "version_minor": 0
      },
      "text/plain": [
       "  0%|          | 0/286 [00:00<?, ?it/s]"
      ]
     },
     "metadata": {},
     "output_type": "display_data"
    },
    {
     "name": "stderr",
     "output_type": "stream",
     "text": [
      "[W pthreadpool-cpp.cc:90] Warning: Leaking Caffe2 thread-pool after fork. (function pthreadpool)\n",
      "[W pthreadpool-cpp.cc:90] Warning: Leaking Caffe2 thread-pool after fork. (function pthreadpool)\n",
      "[W pthreadpool-cpp.cc:90] Warning: Leaking Caffe2 thread-pool after fork. (function pthreadpool)\n",
      "[W pthreadpool-cpp.cc:90] Warning: Leaking Caffe2 thread-pool after fork. (function pthreadpool)\n"
     ]
    },
    {
     "data": {
      "application/vnd.jupyter.widget-view+json": {
       "model_id": "85dd4c3ab6374fd6aac723502b4b5774",
       "version_major": 2,
       "version_minor": 0
      },
      "text/plain": [
       "  0%|          | 0/953 [00:00<?, ?it/s]"
      ]
     },
     "metadata": {},
     "output_type": "display_data"
    },
    {
     "name": "stderr",
     "output_type": "stream",
     "text": [
      "[W pthreadpool-cpp.cc:90] Warning: Leaking Caffe2 thread-pool after fork. (function pthreadpool)\n",
      "[W pthreadpool-cpp.cc:90] Warning: Leaking Caffe2 thread-pool after fork. (function pthreadpool)\n",
      "[W pthreadpool-cpp.cc:90] Warning: Leaking Caffe2 thread-pool after fork. (function pthreadpool)\n",
      "[W pthreadpool-cpp.cc:90] Warning: Leaking Caffe2 thread-pool after fork. (function pthreadpool)\n"
     ]
    },
    {
     "name": "stdout",
     "output_type": "stream",
     "text": [
      "val score: 0.7655\n",
      "\n",
      "[fold 2]\n",
      "load imagenet pretrained: True\n",
      "resnet18d: 512\n"
     ]
    },
    {
     "data": {
      "application/vnd.jupyter.widget-view+json": {
       "model_id": "888ff606259e46e0a50f3660a94217da",
       "version_major": 2,
       "version_minor": 0
      },
      "text/plain": [
       "  0%|          | 0/286 [00:00<?, ?it/s]"
      ]
     },
     "metadata": {},
     "output_type": "display_data"
    },
    {
     "name": "stderr",
     "output_type": "stream",
     "text": [
      "[W pthreadpool-cpp.cc:90] Warning: Leaking Caffe2 thread-pool after fork. (function pthreadpool)\n",
      "[W pthreadpool-cpp.cc:90] Warning: Leaking Caffe2 thread-pool after fork. (function pthreadpool)\n",
      "[W pthreadpool-cpp.cc:90] Warning: Leaking Caffe2 thread-pool after fork. (function pthreadpool)\n",
      "[W pthreadpool-cpp.cc:90] Warning: Leaking Caffe2 thread-pool after fork. (function pthreadpool)\n"
     ]
    },
    {
     "data": {
      "application/vnd.jupyter.widget-view+json": {
       "model_id": "e36bfe699d2c45a1b0936e56d3630d56",
       "version_major": 2,
       "version_minor": 0
      },
      "text/plain": [
       "  0%|          | 0/953 [00:00<?, ?it/s]"
      ]
     },
     "metadata": {},
     "output_type": "display_data"
    },
    {
     "name": "stderr",
     "output_type": "stream",
     "text": [
      "[W pthreadpool-cpp.cc:90] Warning: Leaking Caffe2 thread-pool after fork. (function pthreadpool)\n",
      "[W pthreadpool-cpp.cc:90] Warning: Leaking Caffe2 thread-pool after fork. (function pthreadpool)\n",
      "[W pthreadpool-cpp.cc:90] Warning: Leaking Caffe2 thread-pool after fork. (function pthreadpool)\n",
      "[W pthreadpool-cpp.cc:90] Warning: Leaking Caffe2 thread-pool after fork. (function pthreadpool)\n"
     ]
    },
    {
     "name": "stdout",
     "output_type": "stream",
     "text": [
      "val score: 0.7737\n",
      "\n",
      "[fold 3]\n",
      "load imagenet pretrained: True\n",
      "resnet18d: 512\n"
     ]
    },
    {
     "data": {
      "application/vnd.jupyter.widget-view+json": {
       "model_id": "066e12cb5f7c4fd0be6cba5efc1180fd",
       "version_major": 2,
       "version_minor": 0
      },
      "text/plain": [
       "  0%|          | 0/286 [00:00<?, ?it/s]"
      ]
     },
     "metadata": {},
     "output_type": "display_data"
    },
    {
     "name": "stderr",
     "output_type": "stream",
     "text": [
      "[W pthreadpool-cpp.cc:90] Warning: Leaking Caffe2 thread-pool after fork. (function pthreadpool)\n",
      "[W pthreadpool-cpp.cc:90] Warning: Leaking Caffe2 thread-pool after fork. (function pthreadpool)\n",
      "[W pthreadpool-cpp.cc:90] Warning: Leaking Caffe2 thread-pool after fork. (function pthreadpool)\n",
      "[W pthreadpool-cpp.cc:90] Warning: Leaking Caffe2 thread-pool after fork. (function pthreadpool)\n"
     ]
    },
    {
     "data": {
      "application/vnd.jupyter.widget-view+json": {
       "model_id": "65f0d26786d8403389294506b0bee5b4",
       "version_major": 2,
       "version_minor": 0
      },
      "text/plain": [
       "  0%|          | 0/953 [00:00<?, ?it/s]"
      ]
     },
     "metadata": {},
     "output_type": "display_data"
    },
    {
     "name": "stderr",
     "output_type": "stream",
     "text": [
      "[W pthreadpool-cpp.cc:90] Warning: Leaking Caffe2 thread-pool after fork. (function pthreadpool)\n",
      "[W pthreadpool-cpp.cc:90] Warning: Leaking Caffe2 thread-pool after fork. (function pthreadpool)\n",
      "[W pthreadpool-cpp.cc:90] Warning: Leaking Caffe2 thread-pool after fork. (function pthreadpool)\n",
      "[W pthreadpool-cpp.cc:90] Warning: Leaking Caffe2 thread-pool after fork. (function pthreadpool)\n"
     ]
    },
    {
     "name": "stdout",
     "output_type": "stream",
     "text": [
      "val score: 0.7837\n",
      "\n",
      "[fold 4]\n",
      "load imagenet pretrained: True\n",
      "resnet18d: 512\n"
     ]
    },
    {
     "data": {
      "application/vnd.jupyter.widget-view+json": {
       "model_id": "77853a2298254442aac908f7a7dab261",
       "version_major": 2,
       "version_minor": 0
      },
      "text/plain": [
       "  0%|          | 0/286 [00:00<?, ?it/s]"
      ]
     },
     "metadata": {},
     "output_type": "display_data"
    },
    {
     "name": "stderr",
     "output_type": "stream",
     "text": [
      "[W pthreadpool-cpp.cc:90] Warning: Leaking Caffe2 thread-pool after fork. (function pthreadpool)\n",
      "[W pthreadpool-cpp.cc:90] Warning: Leaking Caffe2 thread-pool after fork. (function pthreadpool)\n",
      "[W pthreadpool-cpp.cc:90] Warning: Leaking Caffe2 thread-pool after fork. (function pthreadpool)\n",
      "[W pthreadpool-cpp.cc:90] Warning: Leaking Caffe2 thread-pool after fork. (function pthreadpool)\n"
     ]
    },
    {
     "data": {
      "application/vnd.jupyter.widget-view+json": {
       "model_id": "f0b49fd751444420af5833127380b5c9",
       "version_major": 2,
       "version_minor": 0
      },
      "text/plain": [
       "  0%|          | 0/953 [00:00<?, ?it/s]"
      ]
     },
     "metadata": {},
     "output_type": "display_data"
    },
    {
     "name": "stderr",
     "output_type": "stream",
     "text": [
      "[W pthreadpool-cpp.cc:90] Warning: Leaking Caffe2 thread-pool after fork. (function pthreadpool)\n",
      "[W pthreadpool-cpp.cc:90] Warning: Leaking Caffe2 thread-pool after fork. (function pthreadpool)\n",
      "[W pthreadpool-cpp.cc:90] Warning: Leaking Caffe2 thread-pool after fork. (function pthreadpool)\n",
      "[W pthreadpool-cpp.cc:90] Warning: Leaking Caffe2 thread-pool after fork. (function pthreadpool)\n"
     ]
    },
    {
     "name": "stdout",
     "output_type": "stream",
     "text": [
      "val score: 0.7952\n"
     ]
    }
   ],
   "source": [
    "label_arr = train[CLASSES].values\n",
    "oof_pred_arr = np.zeros((len(train), N_CLASSES))\n",
    "score_list = []\n",
    "test_pred_arr = np.zeros((N_FOLDS, len(smpl_sub), N_CLASSES))\n",
    "test_path_label = {\n",
    "    \"paths\": [DATA / f\"test/{img_id[0]}/{img_id}.npy\" for img_id in smpl_sub[\"id\"].values],\n",
    "    \"labels\": smpl_sub[CLASSES].values.astype(\"f\")\n",
    "}\n",
    "\n",
    "for fold_id in FOLDS:\n",
    "    print(f\"\\n[fold {fold_id}]\")\n",
    "    tmp_dir = Path(f\"./fold{fold_id}\")\n",
    "    with open(tmp_dir / \"config.yml\", \"r\") as fr:\n",
    "        cfg = Config(yaml.safe_load(fr), types=CONFIG_TYPES)\n",
    "    device = torch.device(cfg[\"/globals/device\"])\n",
    "    val_idx = train.query(\"fold == @fold_id\").index.values\n",
    "\n",
    "    # # get_dataloader\n",
    "    _, val_path_label = get_path_label(cfg, train)\n",
    "    cfg[\"/dataset/val\"].lazy_init(**val_path_label)\n",
    "    cfg[\"/dataset/test\"].lazy_init(**test_path_label)\n",
    "    val_loader = cfg[\"/loader/val\"]\n",
    "    test_loader = cfg[\"/loader/test\"]\n",
    "    \n",
    "    # # get model\n",
    "    model_path = OUTPUT / f\"best_metric_model_fold{fold_id}.pth\"\n",
    "    model = cfg[\"/model\"]\n",
    "    model.load_state_dict(torch.load(model_path, map_location=device))\n",
    "    \n",
    "    # # inference\n",
    "    val_pred = run_inference_loop(cfg, model, val_loader, device)\n",
    "    val_score = roc_auc_score(label_arr[val_idx], val_pred)\n",
    "    oof_pred_arr[val_idx] = val_pred\n",
    "    score_list.append([fold_id, val_score])\n",
    "    \n",
    "    test_pred_arr[fold_id] = run_inference_loop(cfg, model, test_loader, device)\n",
    "    \n",
    "    del cfg, val_idx, val_path_label\n",
    "    del model, val_loader, test_loader\n",
    "    torch.cuda.empty_cache()\n",
    "    gc.collect()\n",
    "    \n",
    "    print(f\"val score: {val_score:.4f}\")"
   ]
  },
  {
   "cell_type": "code",
   "execution_count": 20,
   "id": "regulation-recovery",
   "metadata": {
    "papermill": {
     "duration": null,
     "end_time": null,
     "exception": null,
     "start_time": null,
     "status": "pending"
    },
    "tags": []
   },
   "outputs": [
    {
     "data": {
      "text/html": [
       "<div>\n",
       "<style scoped>\n",
       "    .dataframe tbody tr th:only-of-type {\n",
       "        vertical-align: middle;\n",
       "    }\n",
       "\n",
       "    .dataframe tbody tr th {\n",
       "        vertical-align: top;\n",
       "    }\n",
       "\n",
       "    .dataframe thead th {\n",
       "        text-align: right;\n",
       "    }\n",
       "</style>\n",
       "<table border=\"1\" class=\"dataframe\">\n",
       "  <thead>\n",
       "    <tr style=\"text-align: right;\">\n",
       "      <th></th>\n",
       "      <th>fold</th>\n",
       "      <th>metric</th>\n",
       "    </tr>\n",
       "  </thead>\n",
       "  <tbody>\n",
       "    <tr>\n",
       "      <th>0</th>\n",
       "      <td>0</td>\n",
       "      <td>0.792234</td>\n",
       "    </tr>\n",
       "    <tr>\n",
       "      <th>1</th>\n",
       "      <td>1</td>\n",
       "      <td>0.765454</td>\n",
       "    </tr>\n",
       "    <tr>\n",
       "      <th>2</th>\n",
       "      <td>2</td>\n",
       "      <td>0.773716</td>\n",
       "    </tr>\n",
       "    <tr>\n",
       "      <th>3</th>\n",
       "      <td>3</td>\n",
       "      <td>0.783728</td>\n",
       "    </tr>\n",
       "    <tr>\n",
       "      <th>4</th>\n",
       "      <td>4</td>\n",
       "      <td>0.795240</td>\n",
       "    </tr>\n",
       "    <tr>\n",
       "      <th>5</th>\n",
       "      <td>oof</td>\n",
       "      <td>0.781479</td>\n",
       "    </tr>\n",
       "  </tbody>\n",
       "</table>\n",
       "</div>"
      ],
      "text/plain": [
       "  fold    metric\n",
       "0    0  0.792234\n",
       "1    1  0.765454\n",
       "2    2  0.773716\n",
       "3    3  0.783728\n",
       "4    4  0.795240\n",
       "5  oof  0.781479"
      ]
     },
     "execution_count": 20,
     "metadata": {},
     "output_type": "execute_result"
    }
   ],
   "source": [
    "oof_score = roc_auc_score(label_arr, oof_pred_arr)\n",
    "score_list.append([\"oof\", oof_score])\n",
    "pd.DataFrame(score_list, columns=[\"fold\", \"metric\"])"
   ]
  },
  {
   "cell_type": "code",
   "execution_count": 21,
   "id": "consolidated-abortion",
   "metadata": {
    "papermill": {
     "duration": null,
     "end_time": null,
     "exception": null,
     "start_time": null,
     "status": "pending"
    },
    "tags": []
   },
   "outputs": [],
   "source": [
    "oof_df = train.copy()\n",
    "oof_df[CLASSES] = oof_pred_arr\n",
    "oof_df.to_csv(OUTPUT / \"oof_prediction.csv\", index=False)"
   ]
  },
  {
   "cell_type": "markdown",
   "id": "sought-dragon",
   "metadata": {
    "papermill": {
     "duration": null,
     "end_time": null,
     "exception": null,
     "start_time": null,
     "status": "pending"
    },
    "tags": []
   },
   "source": [
    "## Make submission"
   ]
  },
  {
   "cell_type": "code",
   "execution_count": 22,
   "id": "powerful-official",
   "metadata": {
    "papermill": {
     "duration": null,
     "end_time": null,
     "exception": null,
     "start_time": null,
     "status": "pending"
    },
    "tags": []
   },
   "outputs": [],
   "source": [
    "sub_df = smpl_sub.copy()\n",
    "sub_df[CLASSES] = test_pred_arr.mean(axis=0)\n",
    "sub_df.to_csv(OUTPUT / \"submission.csv\", index=False)"
   ]
  },
  {
   "cell_type": "code",
   "execution_count": 23,
   "id": "prompt-invention",
   "metadata": {
    "papermill": {
     "duration": null,
     "end_time": null,
     "exception": null,
     "start_time": null,
     "status": "pending"
    },
    "tags": []
   },
   "outputs": [
    {
     "data": {
      "text/html": [
       "<div>\n",
       "<style scoped>\n",
       "    .dataframe tbody tr th:only-of-type {\n",
       "        vertical-align: middle;\n",
       "    }\n",
       "\n",
       "    .dataframe tbody tr th {\n",
       "        vertical-align: top;\n",
       "    }\n",
       "\n",
       "    .dataframe thead th {\n",
       "        text-align: right;\n",
       "    }\n",
       "</style>\n",
       "<table border=\"1\" class=\"dataframe\">\n",
       "  <thead>\n",
       "    <tr style=\"text-align: right;\">\n",
       "      <th></th>\n",
       "      <th>id</th>\n",
       "      <th>target</th>\n",
       "    </tr>\n",
       "  </thead>\n",
       "  <tbody>\n",
       "    <tr>\n",
       "      <th>0</th>\n",
       "      <td>000bf832cae9ff1</td>\n",
       "      <td>0.065279</td>\n",
       "    </tr>\n",
       "    <tr>\n",
       "      <th>1</th>\n",
       "      <td>000c74cc71a1140</td>\n",
       "      <td>0.088097</td>\n",
       "    </tr>\n",
       "    <tr>\n",
       "      <th>2</th>\n",
       "      <td>000f5f9851161d3</td>\n",
       "      <td>0.122400</td>\n",
       "    </tr>\n",
       "    <tr>\n",
       "      <th>3</th>\n",
       "      <td>000f7499e95aba6</td>\n",
       "      <td>0.132447</td>\n",
       "    </tr>\n",
       "    <tr>\n",
       "      <th>4</th>\n",
       "      <td>00133ce6ec257f9</td>\n",
       "      <td>0.070107</td>\n",
       "    </tr>\n",
       "  </tbody>\n",
       "</table>\n",
       "</div>"
      ],
      "text/plain": [
       "                id    target\n",
       "0  000bf832cae9ff1  0.065279\n",
       "1  000c74cc71a1140  0.088097\n",
       "2  000f5f9851161d3  0.122400\n",
       "3  000f7499e95aba6  0.132447\n",
       "4  00133ce6ec257f9  0.070107"
      ]
     },
     "execution_count": 23,
     "metadata": {},
     "output_type": "execute_result"
    }
   ],
   "source": [
    "sub_df.head()"
   ]
  },
  {
   "cell_type": "markdown",
   "id": "known-bulgarian",
   "metadata": {
    "papermill": {
     "duration": null,
     "end_time": null,
     "exception": null,
     "start_time": null,
     "status": "pending"
    },
    "tags": []
   },
   "source": [
    "# EOF"
   ]
  }
 ],
 "metadata": {
  "kernelspec": {
   "display_name": "Python 3 (ipykernel)",
   "language": "python",
   "name": "python3"
  },
  "language_info": {
   "codemirror_mode": {
    "name": "ipython",
    "version": 3
   },
   "file_extension": ".py",
   "mimetype": "text/x-python",
   "name": "python",
   "nbconvert_exporter": "python",
   "pygments_lexer": "ipython3",
   "version": "3.7.11"
  },
  "papermill": {
   "default_parameters": {},
   "duration": 47.88843,
   "end_time": "2021-08-01T23:43:11.347452",
   "environment_variables": {},
   "exception": true,
   "input_path": "__notebook__.ipynb",
   "output_path": "__notebook__.ipynb",
   "parameters": {},
   "start_time": "2021-08-01T23:42:23.459022",
   "version": "2.3.3"
  }
 },
 "nbformat": 4,
 "nbformat_minor": 5
}
