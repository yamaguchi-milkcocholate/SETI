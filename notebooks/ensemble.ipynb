{
 "cells": [
  {
   "cell_type": "code",
   "execution_count": 1,
   "id": "68ef0739",
   "metadata": {},
   "outputs": [
    {
     "name": "stderr",
     "output_type": "stream",
     "text": [
      "/Users/teppei/.local/share/virtualenvs/SETI-rgkZMqMW/lib/python3.9/site-packages/pandas/compat/__init__.py:124: UserWarning: Could not import the lzma module. Your installed Python is incomplete. Attempting to use lzma compression will result in a RuntimeError.\n",
      "  warnings.warn(msg)\n"
     ]
    }
   ],
   "source": [
    "import numpy as np\n",
    "import pandas as pd\n",
    "from cmaes import CMA\n",
    "from sklearn import linear_model\n",
    "from sklearn.metrics import roc_auc_score\n",
    "from pathlib import Path\n",
    "from matplotlib import pyplot as plt"
   ]
  },
  {
   "cell_type": "code",
   "execution_count": 3,
   "id": "31ae8cae",
   "metadata": {},
   "outputs": [],
   "source": [
    "expts = [\n",
    "    \"efficientnetb0_100epoch\",\n",
    "    \"efficientnetv2s_100epoch\",\n",
    "    \"efficientnetv2s_640\",\n",
    "    \"efficientnetb0_640\",\n",
    "    \"tf_efficientnet_b1_ns\"\n",
    "]\n",
    "\n",
    "tta = [\n",
    "    \"\",\n",
    "    \"tta_mean_\",\n",
    "    \"tta_max_\",\n",
    "    \"tta_min_\",\n",
    "    \"tta_gmean_\"\n",
    "]\n",
    "\n",
    "basedir = Path('.').resolve()"
   ]
  },
  {
   "cell_type": "code",
   "execution_count": 4,
   "id": "37f7f811",
   "metadata": {},
   "outputs": [],
   "source": [
    "# read oof\n",
    "\n",
    "train_df = pd.read_csv(basedir.parent / 'seti-breakthrough-listen' / 'train_labels.csv')\n",
    "\n",
    "folds = list()\n",
    "for _expt in expts:\n",
    "    for _tta in tta:  \n",
    "        _df = pd.read_csv(basedir / _expt / 'output' / f'{_tta}oof_prediction.csv')\n",
    "        _df = _df.set_index('id')\n",
    "        train_df[f'{_expt}_{_tta}'] = train_df.id.map(_df['target'])\n",
    "        folds.append(_df['fold'].values)\n",
    "    \n",
    "assert all(np.all(folds[0] == _fold) for _fold in folds)\n",
    "\n",
    "train_df['fold'] = folds[0]\n",
    "# train_df.to_csv('./oof_prediction.csv')"
   ]
  },
  {
   "cell_type": "code",
   "execution_count": 5,
   "id": "5d31d69e",
   "metadata": {},
   "outputs": [],
   "source": [
    "# read test\n",
    "\n",
    "test_df = pd.read_csv(basedir.parent / 'seti-breakthrough-listen' / 'sample_submission.csv')\n",
    "\n",
    "for _expt in expts:\n",
    "    for _tta in tta:\n",
    "        _df = pd.read_csv(basedir / _expt / 'output' / f'{_tta}submission.csv')\n",
    "        _df = _df.set_index('id')\n",
    "        test_df[f'{_expt}_{_tta}'] = test_df.id.map(_df['target'])\n",
    "# test_df.to_csv('./test_prediction.csv')"
   ]
  },
  {
   "cell_type": "code",
   "execution_count": 6,
   "id": "588a6142-17e1-4e3b-a6f0-69660785754b",
   "metadata": {},
   "outputs": [
    {
     "data": {
      "text/plain": [
       "['efficientnetb0_100epoch_tta_mean_',\n",
       " 'efficientnetv2s_100epoch_tta_mean_',\n",
       " 'efficientnetv2s_640_tta_mean_',\n",
       " 'efficientnetb0_640_tta_mean_',\n",
       " 'tf_efficientnet_b1_ns_tta_mean_']"
      ]
     },
     "execution_count": 6,
     "metadata": {},
     "output_type": "execute_result"
    }
   ],
   "source": [
    "feature_cols = test_df.drop(columns=['id', 'target']).columns\n",
    "# only tta_mean\n",
    "feature_cols = [f for f in feature_cols if 'tta_mean' in f]\n",
    "feature_cols"
   ]
  },
  {
   "cell_type": "code",
   "execution_count": 7,
   "id": "c60311cb",
   "metadata": {},
   "outputs": [
    {
     "data": {
      "image/png": "[encoded data removed]",
      "text/plain": [
       "<Figure size 432x288 with 1 Axes>"
      ]
     },
     "metadata": {
      "needs_background": "light"
     },
     "output_type": "display_data"
    }
   ],
   "source": [
    "scores = dict()\n",
    "\n",
    "fig, ax = plt.subplots(1, 1, figsize=(6, 4))\n",
    "\n",
    "for f in feature_cols:\n",
    "    y = list()\n",
    "    for _fold in range(5):\n",
    "        pred, target = train_df[_fold == train_df.fold][[f, 'target']].values.T\n",
    "        y.append(roc_auc_score(target, pred))\n",
    "    ax.plot(y, label=f)\n",
    "    scores[f] = y\n",
    "ax.legend()\n",
    "ax.set_xticks(range(5))\n",
    "\n",
    "# average\n",
    "scores['average'] = list()\n",
    "for _fold in range(5):\n",
    "    _df = train_df[train_df.fold == _fold]\n",
    "    target = _df['target'].values\n",
    "    pred = _df[feature_cols].mean(axis=1).values\n",
    "    pred = np.clip(pred, 0, 1)\n",
    "    scores['average'].append(roc_auc_score(target, pred))"
   ]
  },
  {
   "cell_type": "code",
   "execution_count": 8,
   "id": "3a6f23a5",
   "metadata": {},
   "outputs": [
    {
     "data": {
      "text/plain": [
       "([0.8790613811728394,\n",
       "  0.8599518518518519,\n",
       "  0.8626253472222223,\n",
       "  0.8736616126543209,\n",
       "  0.8674788194444446],\n",
       " [0.8808450617283952,\n",
       "  0.8714937500000001,\n",
       "  0.8688291666666667,\n",
       "  0.8736140432098765,\n",
       "  0.8715133487654321])"
      ]
     },
     "execution_count": 8,
     "metadata": {},
     "output_type": "execute_result"
    }
   ],
   "source": [
    "scores['efficientnetv2s_640_tta_mean_'], scores['average']"
   ]
  },
  {
   "cell_type": "markdown",
   "id": "f26a4677",
   "metadata": {},
   "source": [
    "## average "
   ]
  },
  {
   "cell_type": "code",
   "execution_count": 9,
   "id": "c0ceff82",
   "metadata": {},
   "outputs": [
    {
     "data": {
      "text/html": [
       "<div>\n",
       "<style scoped>\n",
       "    .dataframe tbody tr th:only-of-type {\n",
       "        vertical-align: middle;\n",
       "    }\n",
       "\n",
       "    .dataframe tbody tr th {\n",
       "        vertical-align: top;\n",
       "    }\n",
       "\n",
       "    .dataframe thead th {\n",
       "        text-align: right;\n",
       "    }\n",
       "</style>\n",
       "<table border=\"1\" class=\"dataframe\">\n",
       "  <thead>\n",
       "    <tr style=\"text-align: right;\">\n",
       "      <th></th>\n",
       "      <th>id</th>\n",
       "      <th>target</th>\n",
       "    </tr>\n",
       "  </thead>\n",
       "  <tbody>\n",
       "    <tr>\n",
       "      <th>0</th>\n",
       "      <td>000bf832cae9ff1</td>\n",
       "      <td>0.076092</td>\n",
       "    </tr>\n",
       "    <tr>\n",
       "      <th>1</th>\n",
       "      <td>000c74cc71a1140</td>\n",
       "      <td>0.100852</td>\n",
       "    </tr>\n",
       "    <tr>\n",
       "      <th>2</th>\n",
       "      <td>000f5f9851161d3</td>\n",
       "      <td>0.077067</td>\n",
       "    </tr>\n",
       "    <tr>\n",
       "      <th>3</th>\n",
       "      <td>000f7499e95aba6</td>\n",
       "      <td>0.117945</td>\n",
       "    </tr>\n",
       "    <tr>\n",
       "      <th>4</th>\n",
       "      <td>00133ce6ec257f9</td>\n",
       "      <td>0.077540</td>\n",
       "    </tr>\n",
       "  </tbody>\n",
       "</table>\n",
       "</div>"
      ],
      "text/plain": [
       "                id    target\n",
       "0  000bf832cae9ff1  0.076092\n",
       "1  000c74cc71a1140  0.100852\n",
       "2  000f5f9851161d3  0.077067\n",
       "3  000f7499e95aba6  0.117945\n",
       "4  00133ce6ec257f9  0.077540"
      ]
     },
     "execution_count": 9,
     "metadata": {},
     "output_type": "execute_result"
    }
   ],
   "source": [
    "pred = test_df[feature_cols].mean(axis=1).values\n",
    "pred = np.clip(pred, 0, 1)\n",
    "\n",
    "submission_df = test_df[['id', 'target']].copy()\n",
    "submission_df['target'] = pred\n",
    "submission_df.head()"
   ]
  },
  {
   "cell_type": "code",
   "execution_count": 10,
   "id": "5c84b1cb",
   "metadata": {},
   "outputs": [],
   "source": [
    "submission_df.to_csv('submission.csv', index=False)"
   ]
  },
  {
   "cell_type": "markdown",
   "id": "d86555e9",
   "metadata": {},
   "source": [
    "## CMA :whole data"
   ]
  },
  {
   "cell_type": "code",
   "execution_count": 15,
   "id": "aef79d43",
   "metadata": {},
   "outputs": [],
   "source": [
    "def objective(x):\n",
    "    df = train_df[train_df.fold <= 2]\n",
    "    pred = np.dot(df[feature_cols].values, x)\n",
    "    pred = np.clip(pred, 0, 1)\n",
    "    target = df['target'].values\n",
    "    return roc_auc_score(target, pred)\n",
    "\n",
    "\n",
    "def softmax(x):\n",
    "    f_x = np.exp(x) / np.sum(np.exp(x))\n",
    "    return f_x"
   ]
  },
  {
   "cell_type": "code",
   "execution_count": 16,
   "id": "24b25bd1",
   "metadata": {},
   "outputs": [],
   "source": [
    "def optimize(sigma, n_iters):\n",
    "    weights = np.ones(len(feature_cols)) / len(feature_cols)\n",
    "\n",
    "    optimizer = CMA(mean=weights, sigma=sigma)\n",
    "\n",
    "    best = 0\n",
    "    best_w = None\n",
    "    for generation in range(n_iters):\n",
    "        solutions = []\n",
    "        for _ in range(optimizer.population_size):\n",
    "            x = optimizer.ask()\n",
    "            w = softmax(x)\n",
    "            value = objective(w)\n",
    "            solutions.append((x, -value))\n",
    "            if best < value:\n",
    "                best = value\n",
    "                best_w = w\n",
    "                print(f\"#{generation} {np.round(value, 5)} {np.round(best_w, 3)}\")\n",
    "        optimizer.tell(solutions)\n",
    "    \n",
    "    return best, best_w"
   ]
  },
  {
   "cell_type": "code",
   "execution_count": 17,
   "id": "4b06db7d-62b3-475a-af7e-24304158b792",
   "metadata": {},
   "outputs": [
    {
     "name": "stdout",
     "output_type": "stream",
     "text": [
      "#0 0.86762 [0.197 0.527 0.018 0.062 0.195]\n",
      "#0 0.87135 [0.063 0.021 0.07  0.419 0.427]\n",
      "#0 0.8741 [0.119 0.424 0.284 0.144 0.03 ]\n",
      "#0 0.87488 [0.086 0.043 0.262 0.517 0.092]\n",
      "#1 0.87534 [0.209 0.076 0.305 0.358 0.052]\n",
      "#2 0.87541 [0.169 0.178 0.143 0.495 0.014]\n",
      "#2 0.87541 [0.296 0.129 0.244 0.327 0.004]\n",
      "#3 0.87541 [0.269 0.037 0.261 0.428 0.006]\n",
      "#12 0.87545 [0.162 0.102 0.329 0.374 0.034]\n",
      "#12 0.87548 [0.201 0.177 0.316 0.294 0.012]\n",
      "#14 0.87557 [0.231 0.132 0.244 0.38  0.012]\n",
      "#16 0.87559 [0.172 0.169 0.204 0.447 0.008]\n",
      "#17 0.8756 [0.216 0.178 0.226 0.377 0.003]\n",
      "#17 0.87562 [0.187 0.118 0.295 0.397 0.003]\n",
      "#17 0.87563 [0.214 0.155 0.245 0.384 0.003]\n",
      "#21 0.87564 [0.192 0.176 0.235 0.395 0.002]\n",
      "#22 0.87564 [0.194 0.178 0.251 0.376 0.001]\n",
      "#22 0.87565 [0.209 0.13  0.273 0.387 0.   ]\n",
      "#28 0.87566 [0.192 0.147 0.268 0.391 0.002]\n",
      "#29 0.87566 [0.201 0.138 0.261 0.399 0.002]\n",
      "#31 0.87566 [0.175 0.156 0.259 0.409 0.001]\n",
      "#32 0.87566 [0.18  0.154 0.256 0.41  0.   ]\n",
      "#46 0.87566 [0.181 0.158 0.263 0.399 0.   ]\n",
      "#47 0.87567 [0.178 0.158 0.259 0.405 0.   ]\n",
      "#48 0.87567 [0.182 0.155 0.262 0.4   0.   ]\n",
      "#49 0.87567 [0.179 0.161 0.259 0.401 0.   ]\n",
      "#51 0.87567 [0.19  0.151 0.264 0.394 0.   ]\n",
      "#52 0.87567 [0.182 0.158 0.259 0.402 0.   ]\n",
      "#55 0.87567 [0.179 0.158 0.26  0.403 0.   ]\n",
      "#59 0.87567 [0.19  0.151 0.263 0.396 0.   ]\n",
      "#62 0.87567 [0.188 0.153 0.263 0.396 0.   ]\n",
      "#70 0.87567 [0.189 0.152 0.262 0.398 0.   ]\n",
      "#74 0.87567 [0.189 0.152 0.263 0.397 0.   ]\n",
      "#84 0.87567 [0.189 0.151 0.262 0.397 0.   ]\n",
      "#86 0.87567 [0.189 0.152 0.262 0.397 0.   ]\n",
      "#90 0.87567 [0.189 0.152 0.262 0.398 0.   ]\n",
      "#114 0.87567 [0.188 0.152 0.262 0.398 0.   ]\n",
      "#115 0.87567 [0.189 0.152 0.262 0.397 0.   ]\n",
      "#118 0.87567 [0.189 0.152 0.262 0.398 0.   ]\n",
      "#119 0.87567 [0.188 0.152 0.262 0.398 0.   ]\n",
      "#122 0.87567 [0.188 0.152 0.262 0.398 0.   ]\n",
      "#127 0.87567 [0.189 0.152 0.262 0.398 0.   ]\n",
      "#132 0.87567 [0.189 0.152 0.262 0.398 0.   ]\n",
      "#136 0.87567 [0.189 0.152 0.262 0.398 0.   ]\n",
      "#141 0.87567 [0.189 0.152 0.262 0.398 0.   ]\n",
      "#142 0.87567 [0.189 0.152 0.262 0.398 0.   ]\n",
      "#143 0.87567 [0.189 0.152 0.262 0.398 0.   ]\n",
      "#161 0.87567 [0.189 0.152 0.262 0.398 0.   ]\n",
      "#164 0.87567 [0.189 0.152 0.262 0.398 0.   ]\n",
      "#170 0.87567 [0.189 0.152 0.262 0.398 0.   ]\n",
      "#181 0.87567 [0.189 0.152 0.262 0.398 0.   ]\n"
     ]
    },
    {
     "data": {
      "text/plain": [
       "(0.8756687242798354,\n",
       " array([1.88526113e-01, 1.51840305e-01, 2.62071420e-01, 3.97513052e-01,\n",
       "        4.91103074e-05]))"
      ]
     },
     "execution_count": 17,
     "metadata": {},
     "output_type": "execute_result"
    }
   ],
   "source": [
    "best_value, best_weights = optimize(sigma=1.3, n_iters=300)\n",
    "best_value, best_weights"
   ]
  },
  {
   "cell_type": "code",
   "execution_count": 20,
   "id": "5c9c0519-a253-41be-8aaa-534351f11aff",
   "metadata": {},
   "outputs": [
    {
     "data": {
      "text/plain": [
       "array([0.189, 0.152, 0.262, 0.398, 0.   ])"
      ]
     },
     "execution_count": 20,
     "metadata": {},
     "output_type": "execute_result"
    }
   ],
   "source": [
    "np.round(best_weights, 3)"
   ]
  },
  {
   "cell_type": "code",
   "execution_count": 21,
   "id": "eca1fe15-2121-473d-a338-dc8dfa436a43",
   "metadata": {
    "collapsed": true,
    "jupyter": {
     "outputs_hidden": true
    },
    "tags": []
   },
   "outputs": [
    {
     "name": "stdout",
     "output_type": "stream",
     "text": [
      "#0 0.87074 [0.258 0.373 0.1   0.091 0.177]\n",
      "#0 0.87307 [0.234 0.107 0.163 0.237 0.259]\n",
      "#0 0.87477 [0.119 0.192 0.27  0.28  0.138]\n",
      "#0 0.87492 [0.075 0.158 0.192 0.446 0.13 ]\n",
      "#1 0.87502 [0.057 0.118 0.226 0.514 0.086]\n",
      "#2 0.87503 [0.04  0.16  0.257 0.444 0.1  ]\n",
      "#2 0.87518 [0.06  0.15  0.318 0.401 0.071]\n",
      "#3 0.87528 [0.078 0.147 0.307 0.406 0.061]\n",
      "#4 0.87534 [0.074 0.222 0.234 0.419 0.051]\n",
      "#7 0.87551 [0.118 0.206 0.256 0.393 0.027]\n",
      "#8 0.87551 [0.171 0.158 0.223 0.414 0.034]\n",
      "#10 0.87553 [0.143 0.203 0.232 0.397 0.025]\n",
      "#12 0.87553 [0.155 0.145 0.24  0.432 0.029]\n",
      "#12 0.87554 [0.222 0.128 0.25  0.378 0.022]\n",
      "#12 0.87556 [0.171 0.181 0.218 0.41  0.02 ]\n",
      "#13 0.87558 [0.146 0.14  0.294 0.408 0.012]\n",
      "#15 0.87559 [0.151 0.139 0.252 0.449 0.009]\n",
      "#16 0.87559 [0.181 0.189 0.212 0.408 0.009]\n",
      "#17 0.8756 [0.166 0.188 0.211 0.428 0.008]\n",
      "#18 0.87564 [0.17  0.138 0.251 0.438 0.003]\n",
      "#19 0.87565 [0.209 0.144 0.245 0.401 0.001]\n",
      "#20 0.87565 [0.177 0.157 0.235 0.43  0.002]\n",
      "#23 0.87565 [0.175 0.159 0.266 0.397 0.003]\n",
      "#28 0.87566 [0.201 0.155 0.253 0.39  0.   ]\n",
      "#28 0.87566 [0.168 0.165 0.249 0.418 0.   ]\n",
      "#32 0.87566 [0.182 0.158 0.263 0.397 0.   ]\n",
      "#44 0.87566 [0.191 0.155 0.262 0.391 0.   ]\n",
      "#47 0.87566 [0.18  0.161 0.253 0.407 0.   ]\n",
      "#50 0.87566 [0.183 0.157 0.255 0.405 0.   ]\n",
      "#50 0.87567 [0.176 0.159 0.264 0.401 0.   ]\n",
      "#52 0.87567 [0.179 0.158 0.26  0.403 0.   ]\n",
      "#53 0.87567 [0.189 0.155 0.259 0.398 0.   ]\n",
      "#62 0.87567 [0.186 0.158 0.259 0.397 0.   ]\n",
      "#68 0.87567 [0.189 0.151 0.263 0.397 0.   ]\n",
      "#70 0.87567 [0.188 0.151 0.262 0.399 0.   ]\n",
      "#71 0.87567 [0.189 0.152 0.261 0.398 0.   ]\n",
      "#74 0.87567 [0.188 0.153 0.263 0.396 0.   ]\n",
      "#80 0.87567 [0.189 0.152 0.262 0.397 0.   ]\n",
      "#94 0.87567 [0.189 0.152 0.262 0.397 0.   ]\n",
      "#99 0.87567 [0.188 0.152 0.262 0.398 0.   ]\n",
      "#103 0.87567 [0.188 0.152 0.262 0.398 0.   ]\n",
      "#103 0.87567 [0.189 0.152 0.262 0.398 0.   ]\n",
      "#110 0.87567 [0.189 0.152 0.262 0.397 0.   ]\n",
      "#112 0.87567 [0.189 0.152 0.262 0.397 0.   ]\n",
      "#112 0.87567 [0.189 0.152 0.262 0.397 0.   ]\n",
      "#129 0.87567 [0.189 0.152 0.262 0.397 0.   ]\n",
      "#131 0.87567 [0.189 0.152 0.262 0.397 0.   ]\n",
      "#140 0.87567 [0.189 0.152 0.262 0.397 0.   ]\n"
     ]
    },
    {
     "data": {
      "text/plain": [
       "(0.8756687157064472,\n",
       " array([1.88748743e-01, 1.51680051e-01, 2.62162955e-01, 3.97400997e-01,\n",
       "        7.25412476e-06]))"
      ]
     },
     "execution_count": 21,
     "metadata": {},
     "output_type": "execute_result"
    }
   ],
   "source": [
    "best_value, best_weights = optimize(sigma=0.5, n_iters=300)\n",
    "best_value, best_weights"
   ]
  },
  {
   "cell_type": "code",
   "execution_count": 24,
   "id": "5baf5c8b-7ae8-4cde-a53f-d8cf7c24ccd9",
   "metadata": {},
   "outputs": [
    {
     "data": {
      "text/plain": [
       "array([0.189, 0.152, 0.262, 0.397, 0.   ])"
      ]
     },
     "execution_count": 24,
     "metadata": {},
     "output_type": "execute_result"
    }
   ],
   "source": [
    "np.round(best_weights, 3)"
   ]
  },
  {
   "cell_type": "code",
   "execution_count": 26,
   "id": "5da841ed-6f9b-42f8-bd6b-7ec7aed09a0b",
   "metadata": {},
   "outputs": [
    {
     "name": "stdout",
     "output_type": "stream",
     "text": [
      "0.8735993912894375\n",
      "0.8711102151920439\n"
     ]
    }
   ],
   "source": [
    "weights = np.ones(len(feature_cols)) / len(feature_cols)\n",
    "print(objective(weights))\n",
    "weights = np.array([0, 0, 0, 1., 0.])\n",
    "print(objective(weights))"
   ]
  },
  {
   "cell_type": "code",
   "execution_count": 28,
   "id": "45125877",
   "metadata": {},
   "outputs": [
    {
     "data": {
      "text/html": [
       "<div>\n",
       "<style scoped>\n",
       "    .dataframe tbody tr th:only-of-type {\n",
       "        vertical-align: middle;\n",
       "    }\n",
       "\n",
       "    .dataframe tbody tr th {\n",
       "        vertical-align: top;\n",
       "    }\n",
       "\n",
       "    .dataframe thead th {\n",
       "        text-align: right;\n",
       "    }\n",
       "</style>\n",
       "<table border=\"1\" class=\"dataframe\">\n",
       "  <thead>\n",
       "    <tr style=\"text-align: right;\">\n",
       "      <th></th>\n",
       "      <th>id</th>\n",
       "      <th>target</th>\n",
       "    </tr>\n",
       "  </thead>\n",
       "  <tbody>\n",
       "    <tr>\n",
       "      <th>0</th>\n",
       "      <td>000bf832cae9ff1</td>\n",
       "      <td>0.072098</td>\n",
       "    </tr>\n",
       "    <tr>\n",
       "      <th>1</th>\n",
       "      <td>000c74cc71a1140</td>\n",
       "      <td>0.107707</td>\n",
       "    </tr>\n",
       "    <tr>\n",
       "      <th>2</th>\n",
       "      <td>000f5f9851161d3</td>\n",
       "      <td>0.078791</td>\n",
       "    </tr>\n",
       "    <tr>\n",
       "      <th>3</th>\n",
       "      <td>000f7499e95aba6</td>\n",
       "      <td>0.111505</td>\n",
       "    </tr>\n",
       "    <tr>\n",
       "      <th>4</th>\n",
       "      <td>00133ce6ec257f9</td>\n",
       "      <td>0.075263</td>\n",
       "    </tr>\n",
       "  </tbody>\n",
       "</table>\n",
       "</div>"
      ],
      "text/plain": [
       "                id    target\n",
       "0  000bf832cae9ff1  0.072098\n",
       "1  000c74cc71a1140  0.107707\n",
       "2  000f5f9851161d3  0.078791\n",
       "3  000f7499e95aba6  0.111505\n",
       "4  00133ce6ec257f9  0.075263"
      ]
     },
     "execution_count": 28,
     "metadata": {},
     "output_type": "execute_result"
    }
   ],
   "source": [
    "# weighted combination\n",
    "weights = np.array([0.189, 0.152, 0.262, 0.397, 0.   ])\n",
    "\n",
    "pred = test_df[feature_cols].values\n",
    "pred = np.dot(pred, weights)\n",
    "pred = np.clip(pred, 0, 1)\n",
    "\n",
    "submission_df = test_df[['id', 'target']].copy()\n",
    "submission_df['target'] = pred\n",
    "submission_df.to_csv('submission.csv', index=False)\n",
    "submission_df.head()"
   ]
  },
  {
   "cell_type": "code",
   "execution_count": 52,
   "id": "8406a481-eb89-44a9-a881-65fd94bd0fd8",
   "metadata": {},
   "outputs": [
    {
     "data": {
      "text/html": [
       "<div>\n",
       "<style scoped>\n",
       "    .dataframe tbody tr th:only-of-type {\n",
       "        vertical-align: middle;\n",
       "    }\n",
       "\n",
       "    .dataframe tbody tr th {\n",
       "        vertical-align: top;\n",
       "    }\n",
       "\n",
       "    .dataframe thead th {\n",
       "        text-align: right;\n",
       "    }\n",
       "</style>\n",
       "<table border=\"1\" class=\"dataframe\">\n",
       "  <thead>\n",
       "    <tr style=\"text-align: right;\">\n",
       "      <th></th>\n",
       "      <th>id</th>\n",
       "      <th>target</th>\n",
       "    </tr>\n",
       "  </thead>\n",
       "  <tbody>\n",
       "    <tr>\n",
       "      <th>0</th>\n",
       "      <td>000bf832cae9ff1</td>\n",
       "      <td>0.069418</td>\n",
       "    </tr>\n",
       "    <tr>\n",
       "      <th>1</th>\n",
       "      <td>000c74cc71a1140</td>\n",
       "      <td>0.104529</td>\n",
       "    </tr>\n",
       "    <tr>\n",
       "      <th>2</th>\n",
       "      <td>000f5f9851161d3</td>\n",
       "      <td>0.076608</td>\n",
       "    </tr>\n",
       "    <tr>\n",
       "      <th>3</th>\n",
       "      <td>000f7499e95aba6</td>\n",
       "      <td>0.120498</td>\n",
       "    </tr>\n",
       "    <tr>\n",
       "      <th>4</th>\n",
       "      <td>00133ce6ec257f9</td>\n",
       "      <td>0.073194</td>\n",
       "    </tr>\n",
       "  </tbody>\n",
       "</table>\n",
       "</div>"
      ],
      "text/plain": [
       "                id    target\n",
       "0  000bf832cae9ff1  0.069418\n",
       "1  000c74cc71a1140  0.104529\n",
       "2  000f5f9851161d3  0.076608\n",
       "3  000f7499e95aba6  0.120498\n",
       "4  00133ce6ec257f9  0.073194"
      ]
     },
     "execution_count": 52,
     "metadata": {},
     "output_type": "execute_result"
    }
   ],
   "source": [
    "sub_lb = pd.read_csv('./submission_pl0.767.csv')\n",
    "sub_lb['target'] = np.clip(sub_lb['target'], 0, 1)\n",
    "my_sub = pd.read_csv('./my_submission_pl0.770.csv')\n",
    "\n",
    "submission_df = sub_lb.merge(my_sub, on='id')\n",
    "submission_df['target'] = submission_df['target_x'] * 0.1 + submission_df['target_y'] * 0.9\n",
    "submission_df['target'] = np.clip(submission_df['target'], 0, 1)\n",
    "submission_df = submission_df[['id', 'target']]\n",
    "submission_df.to_csv('submission.csv', index=False)\n",
    "submission_df.head()"
   ]
  },
  {
   "cell_type": "code",
   "execution_count": null,
   "id": "ebe3d318-d3eb-40d6-9882-b8e9f150048d",
   "metadata": {},
   "outputs": [],
   "source": []
  }
 ],
 "metadata": {
  "interpreter": {
   "hash": "e7a46fc53b9f9e23ad25267fcf902fac4530370f131b0b24e908479574948024"
  },
  "kernelspec": {
   "display_name": "Python 3 (ipykernel)",
   "language": "python",
   "name": "python3"
  },
  "language_info": {
   "codemirror_mode": {
    "name": "ipython",
    "version": 3
   },
   "file_extension": ".py",
   "mimetype": "text/x-python",
   "name": "python",
   "nbconvert_exporter": "python",
   "pygments_lexer": "ipython3",
   "version": "3.9.4"
  }
 },
 "nbformat": 4,
 "nbformat_minor": 5
}
